{
 "cells": [
  {
   "cell_type": "markdown",
   "metadata": {},
   "source": [
    "# Network"
   ]
  },
  {
   "cell_type": "code",
   "execution_count": 1,
   "metadata": {},
   "outputs": [],
   "source": [
    "import plotly.graph_objects as go\n",
    "import networkx as nx\n",
    "import pandas as pd"
   ]
  },
  {
   "cell_type": "code",
   "execution_count": 2,
   "metadata": {},
   "outputs": [],
   "source": [
    "def generateGraph(df, min_weight = 0):\n",
    "    G = nx.Graph()\n",
    "\n",
    "    for index, row in df.iterrows():\n",
    "        if (row[\"count\"] > min_weight): # more than 3 shows together\n",
    "            G.add_node(row[\"cast1\"])\n",
    "            G.add_node(row[\"cast2\"])\n",
    "            G.add_edge(row[\"cast1\"], row[\"cast2\"], weight = row[\"count\"])\n",
    "    return G\n"
   ]
  },
  {
   "cell_type": "code",
   "execution_count": 5,
   "metadata": {},
   "outputs": [],
   "source": [
    "df = pd.read_csv(\"Data/netflix_titles/cast_network.csv\")\n",
    "cast_G = generateGraph(df)\n",
    "# full_G = generateGraph(df, 3)"
   ]
  },
  {
   "cell_type": "code",
   "execution_count": 6,
   "metadata": {},
   "outputs": [],
   "source": [
    "def generateNetwork(G):\n",
    "    pos_ = nx.spring_layout(G)\n",
    "\n",
    "    edge_x = []\n",
    "    edge_y = []\n",
    "    edge_width = []\n",
    "\n",
    "    for edge in G.edges():\n",
    "        x0, y0 = pos_[edge[0]][0], pos_[edge[0]][1]\n",
    "        x1, y1 = pos_[edge[1]][0], pos_[edge[1]][1]\n",
    "        edge_width.append(G[edge[0]][edge[1]][\"weight\"])\n",
    "        edge_x.append([x0,x1,None])\n",
    "        edge_y.append([y0,y1,None])\n",
    "        \n",
    "    edge_trace = []\n",
    "    for i in range(len(edge_x)):\n",
    "        trace = go.Scatter(\n",
    "            x = edge_x[i], y = edge_y[i],\n",
    "            line=dict(width=edge_width[i] * 0.5, color='#888'),\n",
    "            text=edge_width[i],\n",
    "            hoverinfo = 'text',\n",
    "            mode='lines')\n",
    "        edge_trace.append(trace)\n",
    "        \n",
    "    node_x = []\n",
    "    node_y = []\n",
    "    for node in G.nodes():\n",
    "        x, y = pos_[node][0], pos_[node][1] \n",
    "        node_x.append(x)\n",
    "        node_y.append(y)\n",
    "\n",
    "    node_trace = go.Scatter(\n",
    "        x=node_x, y=node_y,\n",
    "        mode='markers',\n",
    "        hoverinfo='text',\n",
    "        marker=dict(\n",
    "            showscale=True,\n",
    "            # colorscale options\n",
    "            #'Greys' | 'YlGnBu' | 'Greens' | 'YlOrRd' | 'Bluered' | 'RdBu' |\n",
    "            #'Reds' | 'Blues' | 'Picnic' | 'Rainbow' | 'Portland' | 'Jet' |\n",
    "            #'Hot' | 'Blackbody' | 'Earth' | 'Electric' | 'Viridis' |\n",
    "            colorscale='YlGnBu',\n",
    "            reversescale=True,\n",
    "            colorbar=dict(\n",
    "                thickness=15,\n",
    "                title='Node Connections',\n",
    "                xanchor='left',\n",
    "                titleside='right'\n",
    "            ),\n",
    "            line_width=2))\n",
    "\n",
    "    node_adjacencies = []\n",
    "    node_text = []\n",
    "    node_size = []\n",
    "    for node, adjacencies in enumerate(G.adjacency()):\n",
    "        node_adjacencies.append(len(adjacencies[1]))\n",
    "        node_text.append(f'{adjacencies[0]} has {len(adjacencies[1])} connection(s)')\n",
    "        node_size.append(len(adjacencies[1]) * 1.2) \n",
    "\n",
    "    node_trace.marker.color = node_adjacencies\n",
    "    node_trace.text = node_text\n",
    "    node_trace.marker.size = node_size\n",
    "\n",
    "\n",
    "    fig = go.Figure(data=edge_trace + [node_trace],\n",
    "                layout=go.Layout(\n",
    "                    title='Netflix Cast Network Graph',\n",
    "                    titlefont_size=16,\n",
    "                    showlegend=False,\n",
    "                    hovermode='closest',\n",
    "                    margin=dict(b=20,l=5,r=5,t=40),\n",
    "                    xaxis=dict(showgrid=False, zeroline=False, showticklabels=False),\n",
    "                    yaxis=dict(showgrid=False, zeroline=False, showticklabels=False))\n",
    "                    )\n",
    "    fig.show()"
   ]
  },
  {
   "cell_type": "code",
   "execution_count": 49,
   "metadata": {},
   "outputs": [],
   "source": [
    "\n",
    "def getCastNetwork(G, show, casts):\n",
    "    \n",
    "    all_casts_nodes = []\n",
    "\n",
    "    for cast in casts: \n",
    "        for adj in G.adjacency():\n",
    "            if (adj[0] == cast):\n",
    "                subG_nodes = [adj[0]]\n",
    "                subG_nodes += adj[1].keys()\n",
    "                break\n",
    "        all_casts_nodes += subG_nodes\n",
    "    \n",
    "    if (all_casts_nodes == []):\n",
    "        return False\n",
    "\n",
    "    G = G.subgraph(all_casts_nodes)\n",
    "\n",
    "    pos_ = nx.spring_layout(G)\n",
    "\n",
    "    edge_x = []\n",
    "    edge_y = []\n",
    "    edge_width = []\n",
    "\n",
    "    for edge in G.edges():\n",
    "        x0, y0 = pos_[edge[0]][0], pos_[edge[0]][1]\n",
    "        x1, y1 = pos_[edge[1]][0], pos_[edge[1]][1]\n",
    "        edge_width.append(G[edge[0]][edge[1]][\"weight\"])\n",
    "        edge_x.append([x0,x1,None])\n",
    "        edge_y.append([y0,y1,None])\n",
    "        \n",
    "    edge_trace = []\n",
    "    for i in range(len(edge_x)):\n",
    "        trace = go.Scatter(\n",
    "            x = edge_x[i], y = edge_y[i],\n",
    "            line=dict(width=edge_width[i] * 0.5, color='#888'),\n",
    "            text=edge_width[i],\n",
    "            hoverinfo = 'text',\n",
    "            mode='lines')\n",
    "        edge_trace.append(trace)\n",
    "        \n",
    "    node_x = []\n",
    "    node_y = []\n",
    "\n",
    "    cast_x = []\n",
    "    cast_y = []\n",
    "    for node in G.nodes():\n",
    "        x, y = pos_[node][0], pos_[node][1] \n",
    "        node_x.append(x)\n",
    "        node_y.append(y)\n",
    "        if (node in casts): \n",
    "            cast_x.append(x)\n",
    "            cast_y.append(y)\n",
    "\n",
    "    search_trace = go.Scatter(\n",
    "        x=cast_x, y=cast_y,\n",
    "        mode='markers',\n",
    "        hoverinfo='text',\n",
    "        marker=dict(\n",
    "            color='red',\n",
    "            line_width=2))\n",
    "\n",
    "    node_trace = go.Scatter(\n",
    "        x=node_x, y=node_y,\n",
    "        mode='markers',\n",
    "        hoverinfo='text',\n",
    "        marker=dict(\n",
    "            showscale=True,\n",
    "            # colorscale options\n",
    "            #'Greys' | 'YlGnBu' | 'Greens' | 'YlOrRd' | 'Bluered' | 'RdBu' |\n",
    "            #'Reds' | 'Blues' | 'Picnic' | 'Rainbow' | 'Portland' | 'Jet' |\n",
    "            #'Hot' | 'Blackbody' | 'Earth' | 'Electric' | 'Viridis' |\n",
    "            colorscale='YlGnBu',\n",
    "            reversescale=True,\n",
    "            color=[],\n",
    "            colorbar=dict(\n",
    "                thickness=15,\n",
    "                title='Node Connections',\n",
    "                xanchor='left',\n",
    "                titleside='right'\n",
    "            ),\n",
    "            line_width=2))\n",
    "\n",
    "    node_adjacencies = []\n",
    "    node_text = []\n",
    "    node_size = []\n",
    "    for node, adjacencies in enumerate(G.adjacency()):\n",
    "        node_adjacencies.append(len(adjacencies[1]))\n",
    "        node_text.append(f'{adjacencies[0]} has {len(adjacencies[1])} connection(s)')\n",
    "        node_size.append(len(adjacencies[1]) * 1.2) \n",
    "\n",
    "    node_trace.marker.color = node_adjacencies\n",
    "    node_trace.text = node_text\n",
    "    node_trace.marker.size = node_size\n",
    "\n",
    "    fig = go.Figure(data=edge_trace + [node_trace] + [search_trace],\n",
    "                layout=go.Layout(\n",
    "                    title=f'{show}\\'s Cast Network Graph',\n",
    "                    titlefont_size=16,\n",
    "                    showlegend=False,\n",
    "                    hovermode='closest',\n",
    "                    margin=dict(b=20,l=5,r=5,t=40),\n",
    "                    xaxis=dict(showgrid=False, zeroline=False, showticklabels=False),\n",
    "                    yaxis=dict(showgrid=False, zeroline=False, showticklabels=False))\n",
    "                    )\n",
    "                    \n",
    "    return fig\n"
   ]
  },
  {
   "cell_type": "code",
   "execution_count": 51,
   "metadata": {},
   "outputs": [
    {
     "data": {
      "application/vnd.plotly.v1+json": {
       "config": {
        "plotlyServerURL": "https://plot.ly"
       },
       "data": [
        {
         "hoverinfo": "text",
         "line": {
          "color": "#888",
          "width": 1
         },
         "mode": "lines",
         "text": "1",
         "type": "scatter",
         "x": [
          -0.7873709031840862,
          0.017589172143526618,
          null
         ],
         "y": [
          -0.36867232972473907,
          -0.010237166089509217,
          null
         ]
        },
        {
         "hoverinfo": "text",
         "line": {
          "color": "#888",
          "width": 1
         },
         "mode": "lines",
         "text": "1",
         "type": "scatter",
         "x": [
          -0.7873709031840862,
          -0.35270536689196447,
          null
         ],
         "y": [
          -0.36867232972473907,
          -0.4323517720567574,
          null
         ]
        },
        {
         "hoverinfo": "text",
         "line": {
          "color": "#888",
          "width": 1
         },
         "mode": "lines",
         "text": "1",
         "type": "scatter",
         "x": [
          -0.7873709031840862,
          -0.7474693220490586,
          null
         ],
         "y": [
          -0.36867232972473907,
          -0.19662294317937665,
          null
         ]
        },
        {
         "hoverinfo": "text",
         "line": {
          "color": "#888",
          "width": 1
         },
         "mode": "lines",
         "text": "1",
         "type": "scatter",
         "x": [
          -0.7873709031840862,
          -0.7023009852737886,
          null
         ],
         "y": [
          -0.36867232972473907,
          -0.5509187851962309,
          null
         ]
        },
        {
         "hoverinfo": "text",
         "line": {
          "color": "#888",
          "width": 1
         },
         "mode": "lines",
         "text": "1",
         "type": "scatter",
         "x": [
          -0.7873709031840862,
          -0.4603347211535667,
          null
         ],
         "y": [
          -0.36867232972473907,
          0.0850622885358145,
          null
         ]
        },
        {
         "hoverinfo": "text",
         "line": {
          "color": "#888",
          "width": 1
         },
         "mode": "lines",
         "text": "1",
         "type": "scatter",
         "x": [
          -0.7873709031840862,
          -0.5567148951208876,
          null
         ],
         "y": [
          -0.36867232972473907,
          -0.4493580109080252,
          null
         ]
        },
        {
         "hoverinfo": "text",
         "line": {
          "color": "#888",
          "width": 1
         },
         "mode": "lines",
         "text": "1",
         "type": "scatter",
         "x": [
          -0.7873709031840862,
          -0.5277324098642471,
          null
         ],
         "y": [
          -0.36867232972473907,
          -0.2623832688450973,
          null
         ]
        },
        {
         "hoverinfo": "text",
         "line": {
          "color": "#888",
          "width": 1
         },
         "mode": "lines",
         "text": "1",
         "type": "scatter",
         "x": [
          -0.7873709031840862,
          -0.46081524835473675,
          null
         ],
         "y": [
          -0.36867232972473907,
          -0.6115577085457277,
          null
         ]
        },
        {
         "hoverinfo": "text",
         "line": {
          "color": "#888",
          "width": 1
         },
         "mode": "lines",
         "text": "1",
         "type": "scatter",
         "x": [
          0.8369266613866919,
          0.017589172143526618,
          null
         ],
         "y": [
          -0.14798427061816935,
          -0.010237166089509217,
          null
         ]
        },
        {
         "hoverinfo": "text",
         "line": {
          "color": "#888",
          "width": 1
         },
         "mode": "lines",
         "text": "1",
         "type": "scatter",
         "x": [
          0.8369266613866919,
          0.975318105183847,
          null
         ],
         "y": [
          -0.14798427061816935,
          -0.28245574185229894,
          null
         ]
        },
        {
         "hoverinfo": "text",
         "line": {
          "color": "#888",
          "width": 1
         },
         "mode": "lines",
         "text": "1",
         "type": "scatter",
         "x": [
          0.8369266613866919,
          1,
          null
         ],
         "y": [
          -0.14798427061816935,
          -0.05334987819834092,
          null
         ]
        },
        {
         "hoverinfo": "text",
         "line": {
          "color": "#888",
          "width": 1
         },
         "mode": "lines",
         "text": "1",
         "type": "scatter",
         "x": [
          0.8369266613866919,
          0.8187512006778593,
          null
         ],
         "y": [
          -0.14798427061816935,
          -0.38467647791328624,
          null
         ]
        },
        {
         "hoverinfo": "text",
         "line": {
          "color": "#888",
          "width": 1
         },
         "mode": "lines",
         "text": "1",
         "type": "scatter",
         "x": [
          0.8369266613866919,
          0.7086611134966031,
          null
         ],
         "y": [
          -0.14798427061816935,
          0.1197717392208018,
          null
         ]
        },
        {
         "hoverinfo": "text",
         "line": {
          "color": "#888",
          "width": 1
         },
         "mode": "lines",
         "text": "1",
         "type": "scatter",
         "x": [
          0.8369266613866919,
          0.5998329820783311,
          null
         ],
         "y": [
          -0.14798427061816935,
          -0.2208907178766666,
          null
         ]
        },
        {
         "hoverinfo": "text",
         "line": {
          "color": "#888",
          "width": 1
         },
         "mode": "lines",
         "text": "1",
         "type": "scatter",
         "x": [
          0.8369266613866919,
          0.8822548739160904,
          null
         ],
         "y": [
          -0.14798427061816935,
          0.09111578092709262,
          null
         ]
        },
        {
         "hoverinfo": "text",
         "line": {
          "color": "#888",
          "width": 1
         },
         "mode": "lines",
         "text": "1",
         "type": "scatter",
         "x": [
          0.8369266613866919,
          0.6486223988432243,
          null
         ],
         "y": [
          -0.14798427061816935,
          -0.3908437942517894,
          null
         ]
        },
        {
         "hoverinfo": "text",
         "line": {
          "color": "#888",
          "width": 1
         },
         "mode": "lines",
         "text": "1",
         "type": "scatter",
         "x": [
          0.8369266613866919,
          0.6449163599255118,
          null
         ],
         "y": [
          -0.14798427061816935,
          -0.049794762770372994,
          null
         ]
        },
        {
         "hoverinfo": "text",
         "line": {
          "color": "#888",
          "width": 2
         },
         "mode": "lines",
         "text": "2",
         "type": "scatter",
         "x": [
          -0.4603347211535667,
          0.017589172143526618,
          null
         ],
         "y": [
          0.0850622885358145,
          -0.010237166089509217,
          null
         ]
        },
        {
         "hoverinfo": "text",
         "line": {
          "color": "#888",
          "width": 1
         },
         "mode": "lines",
         "text": "1",
         "type": "scatter",
         "x": [
          -0.4603347211535667,
          -0.35270536689196447,
          null
         ],
         "y": [
          0.0850622885358145,
          -0.4323517720567574,
          null
         ]
        },
        {
         "hoverinfo": "text",
         "line": {
          "color": "#888",
          "width": 1
         },
         "mode": "lines",
         "text": "1",
         "type": "scatter",
         "x": [
          -0.4603347211535667,
          -0.7474693220490586,
          null
         ],
         "y": [
          0.0850622885358145,
          -0.19662294317937665,
          null
         ]
        },
        {
         "hoverinfo": "text",
         "line": {
          "color": "#888",
          "width": 1
         },
         "mode": "lines",
         "text": "1",
         "type": "scatter",
         "x": [
          -0.4603347211535667,
          -0.7023009852737886,
          null
         ],
         "y": [
          0.0850622885358145,
          -0.5509187851962309,
          null
         ]
        },
        {
         "hoverinfo": "text",
         "line": {
          "color": "#888",
          "width": 1
         },
         "mode": "lines",
         "text": "1",
         "type": "scatter",
         "x": [
          -0.4603347211535667,
          -0.5567148951208876,
          null
         ],
         "y": [
          0.0850622885358145,
          -0.4493580109080252,
          null
         ]
        },
        {
         "hoverinfo": "text",
         "line": {
          "color": "#888",
          "width": 1
         },
         "mode": "lines",
         "text": "1",
         "type": "scatter",
         "x": [
          -0.4603347211535667,
          -0.5277324098642471,
          null
         ],
         "y": [
          0.0850622885358145,
          -0.2623832688450973,
          null
         ]
        },
        {
         "hoverinfo": "text",
         "line": {
          "color": "#888",
          "width": 1
         },
         "mode": "lines",
         "text": "1",
         "type": "scatter",
         "x": [
          -0.4603347211535667,
          -0.46081524835473675,
          null
         ],
         "y": [
          0.0850622885358145,
          -0.6115577085457277,
          null
         ]
        },
        {
         "hoverinfo": "text",
         "line": {
          "color": "#888",
          "width": 1
         },
         "mode": "lines",
         "text": "1",
         "type": "scatter",
         "x": [
          -0.4603347211535667,
          -0.12595841857662435,
          null
         ],
         "y": [
          0.0850622885358145,
          0.6458942011941886,
          null
         ]
        },
        {
         "hoverinfo": "text",
         "line": {
          "color": "#888",
          "width": 1
         },
         "mode": "lines",
         "text": "1",
         "type": "scatter",
         "x": [
          -0.4603347211535667,
          -0.36172530157851474,
          null
         ],
         "y": [
          0.0850622885358145,
          0.4712833766636108,
          null
         ]
        },
        {
         "hoverinfo": "text",
         "line": {
          "color": "#888",
          "width": 1
         },
         "mode": "lines",
         "text": "1",
         "type": "scatter",
         "x": [
          -0.4603347211535667,
          -0.1851333527622661,
          null
         ],
         "y": [
          0.0850622885358145,
          0.4726527935880414,
          null
         ]
        },
        {
         "hoverinfo": "text",
         "line": {
          "color": "#888",
          "width": 1
         },
         "mode": "lines",
         "text": "1",
         "type": "scatter",
         "x": [
          -0.4603347211535667,
          -0.5881741593562335,
          null
         ],
         "y": [
          0.0850622885358145,
          0.6176332779022677,
          null
         ]
        },
        {
         "hoverinfo": "text",
         "line": {
          "color": "#888",
          "width": 1
         },
         "mode": "lines",
         "text": "1",
         "type": "scatter",
         "x": [
          -0.4603347211535667,
          -0.5591087612005271,
          null
         ],
         "y": [
          0.0850622885358145,
          0.44106087000140326,
          null
         ]
        },
        {
         "hoverinfo": "text",
         "line": {
          "color": "#888",
          "width": 1
         },
         "mode": "lines",
         "text": "1",
         "type": "scatter",
         "x": [
          -0.4603347211535667,
          -0.4432254486200955,
          null
         ],
         "y": [
          0.0850622885358145,
          0.7214509397827474,
          null
         ]
        },
        {
         "hoverinfo": "text",
         "line": {
          "color": "#888",
          "width": 1
         },
         "mode": "lines",
         "text": "1",
         "type": "scatter",
         "x": [
          -0.4603347211535667,
          -0.27410357366508753,
          null
         ],
         "y": [
          0.0850622885358145,
          0.7461723602104174,
          null
         ]
        },
        {
         "hoverinfo": "text",
         "line": {
          "color": "#888",
          "width": 1
         },
         "mode": "lines",
         "text": "1",
         "type": "scatter",
         "x": [
          0.6449163599255118,
          0.017589172143526618,
          null
         ],
         "y": [
          -0.049794762770372994,
          -0.010237166089509217,
          null
         ]
        },
        {
         "hoverinfo": "text",
         "line": {
          "color": "#888",
          "width": 1
         },
         "mode": "lines",
         "text": "1",
         "type": "scatter",
         "x": [
          0.6449163599255118,
          0.975318105183847,
          null
         ],
         "y": [
          -0.049794762770372994,
          -0.28245574185229894,
          null
         ]
        },
        {
         "hoverinfo": "text",
         "line": {
          "color": "#888",
          "width": 1
         },
         "mode": "lines",
         "text": "1",
         "type": "scatter",
         "x": [
          0.6449163599255118,
          1,
          null
         ],
         "y": [
          -0.049794762770372994,
          -0.05334987819834092,
          null
         ]
        },
        {
         "hoverinfo": "text",
         "line": {
          "color": "#888",
          "width": 1
         },
         "mode": "lines",
         "text": "1",
         "type": "scatter",
         "x": [
          0.6449163599255118,
          0.8187512006778593,
          null
         ],
         "y": [
          -0.049794762770372994,
          -0.38467647791328624,
          null
         ]
        },
        {
         "hoverinfo": "text",
         "line": {
          "color": "#888",
          "width": 1
         },
         "mode": "lines",
         "text": "1",
         "type": "scatter",
         "x": [
          0.6449163599255118,
          0.7086611134966031,
          null
         ],
         "y": [
          -0.049794762770372994,
          0.1197717392208018,
          null
         ]
        },
        {
         "hoverinfo": "text",
         "line": {
          "color": "#888",
          "width": 1
         },
         "mode": "lines",
         "text": "1",
         "type": "scatter",
         "x": [
          0.6449163599255118,
          0.5998329820783311,
          null
         ],
         "y": [
          -0.049794762770372994,
          -0.2208907178766666,
          null
         ]
        },
        {
         "hoverinfo": "text",
         "line": {
          "color": "#888",
          "width": 1
         },
         "mode": "lines",
         "text": "1",
         "type": "scatter",
         "x": [
          0.6449163599255118,
          0.8822548739160904,
          null
         ],
         "y": [
          -0.049794762770372994,
          0.09111578092709262,
          null
         ]
        },
        {
         "hoverinfo": "text",
         "line": {
          "color": "#888",
          "width": 1
         },
         "mode": "lines",
         "text": "1",
         "type": "scatter",
         "x": [
          0.6449163599255118,
          0.6486223988432243,
          null
         ],
         "y": [
          -0.049794762770372994,
          -0.3908437942517894,
          null
         ]
        },
        {
         "hoverinfo": "text",
         "line": {
          "color": "#888",
          "width": 1
         },
         "mode": "lines",
         "text": "1",
         "type": "scatter",
         "x": [
          -0.7023009852737886,
          0.017589172143526618,
          null
         ],
         "y": [
          -0.5509187851962309,
          -0.010237166089509217,
          null
         ]
        },
        {
         "hoverinfo": "text",
         "line": {
          "color": "#888",
          "width": 1
         },
         "mode": "lines",
         "text": "1",
         "type": "scatter",
         "x": [
          -0.7023009852737886,
          -0.35270536689196447,
          null
         ],
         "y": [
          -0.5509187851962309,
          -0.4323517720567574,
          null
         ]
        },
        {
         "hoverinfo": "text",
         "line": {
          "color": "#888",
          "width": 1
         },
         "mode": "lines",
         "text": "1",
         "type": "scatter",
         "x": [
          -0.7023009852737886,
          -0.7474693220490586,
          null
         ],
         "y": [
          -0.5509187851962309,
          -0.19662294317937665,
          null
         ]
        },
        {
         "hoverinfo": "text",
         "line": {
          "color": "#888",
          "width": 1
         },
         "mode": "lines",
         "text": "1",
         "type": "scatter",
         "x": [
          -0.7023009852737886,
          -0.5567148951208876,
          null
         ],
         "y": [
          -0.5509187851962309,
          -0.4493580109080252,
          null
         ]
        },
        {
         "hoverinfo": "text",
         "line": {
          "color": "#888",
          "width": 1
         },
         "mode": "lines",
         "text": "1",
         "type": "scatter",
         "x": [
          -0.7023009852737886,
          -0.5277324098642471,
          null
         ],
         "y": [
          -0.5509187851962309,
          -0.2623832688450973,
          null
         ]
        },
        {
         "hoverinfo": "text",
         "line": {
          "color": "#888",
          "width": 1
         },
         "mode": "lines",
         "text": "1",
         "type": "scatter",
         "x": [
          -0.7023009852737886,
          -0.46081524835473675,
          null
         ],
         "y": [
          -0.5509187851962309,
          -0.6115577085457277,
          null
         ]
        },
        {
         "hoverinfo": "text",
         "line": {
          "color": "#888",
          "width": 1
         },
         "mode": "lines",
         "text": "1",
         "type": "scatter",
         "x": [
          0.975318105183847,
          0.017589172143526618,
          null
         ],
         "y": [
          -0.28245574185229894,
          -0.010237166089509217,
          null
         ]
        },
        {
         "hoverinfo": "text",
         "line": {
          "color": "#888",
          "width": 1
         },
         "mode": "lines",
         "text": "1",
         "type": "scatter",
         "x": [
          0.975318105183847,
          1,
          null
         ],
         "y": [
          -0.28245574185229894,
          -0.05334987819834092,
          null
         ]
        },
        {
         "hoverinfo": "text",
         "line": {
          "color": "#888",
          "width": 1
         },
         "mode": "lines",
         "text": "1",
         "type": "scatter",
         "x": [
          0.975318105183847,
          0.8187512006778593,
          null
         ],
         "y": [
          -0.28245574185229894,
          -0.38467647791328624,
          null
         ]
        },
        {
         "hoverinfo": "text",
         "line": {
          "color": "#888",
          "width": 1
         },
         "mode": "lines",
         "text": "1",
         "type": "scatter",
         "x": [
          0.975318105183847,
          0.7086611134966031,
          null
         ],
         "y": [
          -0.28245574185229894,
          0.1197717392208018,
          null
         ]
        },
        {
         "hoverinfo": "text",
         "line": {
          "color": "#888",
          "width": 1
         },
         "mode": "lines",
         "text": "1",
         "type": "scatter",
         "x": [
          0.975318105183847,
          0.5998329820783311,
          null
         ],
         "y": [
          -0.28245574185229894,
          -0.2208907178766666,
          null
         ]
        },
        {
         "hoverinfo": "text",
         "line": {
          "color": "#888",
          "width": 1
         },
         "mode": "lines",
         "text": "1",
         "type": "scatter",
         "x": [
          0.975318105183847,
          0.8822548739160904,
          null
         ],
         "y": [
          -0.28245574185229894,
          0.09111578092709262,
          null
         ]
        },
        {
         "hoverinfo": "text",
         "line": {
          "color": "#888",
          "width": 1
         },
         "mode": "lines",
         "text": "1",
         "type": "scatter",
         "x": [
          0.975318105183847,
          0.6486223988432243,
          null
         ],
         "y": [
          -0.28245574185229894,
          -0.3908437942517894,
          null
         ]
        },
        {
         "hoverinfo": "text",
         "line": {
          "color": "#888",
          "width": 1
         },
         "mode": "lines",
         "text": "1",
         "type": "scatter",
         "x": [
          -0.46081524835473675,
          0.017589172143526618,
          null
         ],
         "y": [
          -0.6115577085457277,
          -0.010237166089509217,
          null
         ]
        },
        {
         "hoverinfo": "text",
         "line": {
          "color": "#888",
          "width": 1
         },
         "mode": "lines",
         "text": "1",
         "type": "scatter",
         "x": [
          -0.46081524835473675,
          -0.35270536689196447,
          null
         ],
         "y": [
          -0.6115577085457277,
          -0.4323517720567574,
          null
         ]
        },
        {
         "hoverinfo": "text",
         "line": {
          "color": "#888",
          "width": 1
         },
         "mode": "lines",
         "text": "1",
         "type": "scatter",
         "x": [
          -0.46081524835473675,
          -0.7474693220490586,
          null
         ],
         "y": [
          -0.6115577085457277,
          -0.19662294317937665,
          null
         ]
        },
        {
         "hoverinfo": "text",
         "line": {
          "color": "#888",
          "width": 1
         },
         "mode": "lines",
         "text": "1",
         "type": "scatter",
         "x": [
          -0.46081524835473675,
          -0.5567148951208876,
          null
         ],
         "y": [
          -0.6115577085457277,
          -0.4493580109080252,
          null
         ]
        },
        {
         "hoverinfo": "text",
         "line": {
          "color": "#888",
          "width": 1
         },
         "mode": "lines",
         "text": "1",
         "type": "scatter",
         "x": [
          -0.46081524835473675,
          -0.5277324098642471,
          null
         ],
         "y": [
          -0.6115577085457277,
          -0.2623832688450973,
          null
         ]
        },
        {
         "hoverinfo": "text",
         "line": {
          "color": "#888",
          "width": 1
         },
         "mode": "lines",
         "text": "1",
         "type": "scatter",
         "x": [
          0.8822548739160904,
          0.017589172143526618,
          null
         ],
         "y": [
          0.09111578092709262,
          -0.010237166089509217,
          null
         ]
        },
        {
         "hoverinfo": "text",
         "line": {
          "color": "#888",
          "width": 1
         },
         "mode": "lines",
         "text": "1",
         "type": "scatter",
         "x": [
          0.8822548739160904,
          1,
          null
         ],
         "y": [
          0.09111578092709262,
          -0.05334987819834092,
          null
         ]
        },
        {
         "hoverinfo": "text",
         "line": {
          "color": "#888",
          "width": 1
         },
         "mode": "lines",
         "text": "1",
         "type": "scatter",
         "x": [
          0.8822548739160904,
          0.8187512006778593,
          null
         ],
         "y": [
          0.09111578092709262,
          -0.38467647791328624,
          null
         ]
        },
        {
         "hoverinfo": "text",
         "line": {
          "color": "#888",
          "width": 1
         },
         "mode": "lines",
         "text": "1",
         "type": "scatter",
         "x": [
          0.8822548739160904,
          0.7086611134966031,
          null
         ],
         "y": [
          0.09111578092709262,
          0.1197717392208018,
          null
         ]
        },
        {
         "hoverinfo": "text",
         "line": {
          "color": "#888",
          "width": 1
         },
         "mode": "lines",
         "text": "1",
         "type": "scatter",
         "x": [
          0.8822548739160904,
          0.5998329820783311,
          null
         ],
         "y": [
          0.09111578092709262,
          -0.2208907178766666,
          null
         ]
        },
        {
         "hoverinfo": "text",
         "line": {
          "color": "#888",
          "width": 1
         },
         "mode": "lines",
         "text": "1",
         "type": "scatter",
         "x": [
          0.8822548739160904,
          0.6486223988432243,
          null
         ],
         "y": [
          0.09111578092709262,
          -0.3908437942517894,
          null
         ]
        },
        {
         "hoverinfo": "text",
         "line": {
          "color": "#888",
          "width": 1
         },
         "mode": "lines",
         "text": "1",
         "type": "scatter",
         "x": [
          -0.5567148951208876,
          0.017589172143526618,
          null
         ],
         "y": [
          -0.4493580109080252,
          -0.010237166089509217,
          null
         ]
        },
        {
         "hoverinfo": "text",
         "line": {
          "color": "#888",
          "width": 1
         },
         "mode": "lines",
         "text": "1",
         "type": "scatter",
         "x": [
          -0.5567148951208876,
          -0.35270536689196447,
          null
         ],
         "y": [
          -0.4493580109080252,
          -0.4323517720567574,
          null
         ]
        },
        {
         "hoverinfo": "text",
         "line": {
          "color": "#888",
          "width": 1
         },
         "mode": "lines",
         "text": "1",
         "type": "scatter",
         "x": [
          -0.5567148951208876,
          -0.7474693220490586,
          null
         ],
         "y": [
          -0.4493580109080252,
          -0.19662294317937665,
          null
         ]
        },
        {
         "hoverinfo": "text",
         "line": {
          "color": "#888",
          "width": 1
         },
         "mode": "lines",
         "text": "1",
         "type": "scatter",
         "x": [
          -0.5567148951208876,
          -0.5277324098642471,
          null
         ],
         "y": [
          -0.4493580109080252,
          -0.2623832688450973,
          null
         ]
        },
        {
         "hoverinfo": "text",
         "line": {
          "color": "#888",
          "width": 1
         },
         "mode": "lines",
         "text": "1",
         "type": "scatter",
         "x": [
          0.6486223988432243,
          0.017589172143526618,
          null
         ],
         "y": [
          -0.3908437942517894,
          -0.010237166089509217,
          null
         ]
        },
        {
         "hoverinfo": "text",
         "line": {
          "color": "#888",
          "width": 1
         },
         "mode": "lines",
         "text": "1",
         "type": "scatter",
         "x": [
          0.6486223988432243,
          1,
          null
         ],
         "y": [
          -0.3908437942517894,
          -0.05334987819834092,
          null
         ]
        },
        {
         "hoverinfo": "text",
         "line": {
          "color": "#888",
          "width": 1
         },
         "mode": "lines",
         "text": "1",
         "type": "scatter",
         "x": [
          0.6486223988432243,
          0.8187512006778593,
          null
         ],
         "y": [
          -0.3908437942517894,
          -0.38467647791328624,
          null
         ]
        },
        {
         "hoverinfo": "text",
         "line": {
          "color": "#888",
          "width": 1
         },
         "mode": "lines",
         "text": "1",
         "type": "scatter",
         "x": [
          0.6486223988432243,
          0.7086611134966031,
          null
         ],
         "y": [
          -0.3908437942517894,
          0.1197717392208018,
          null
         ]
        },
        {
         "hoverinfo": "text",
         "line": {
          "color": "#888",
          "width": 1
         },
         "mode": "lines",
         "text": "1",
         "type": "scatter",
         "x": [
          0.6486223988432243,
          0.5998329820783311,
          null
         ],
         "y": [
          -0.3908437942517894,
          -0.2208907178766666,
          null
         ]
        },
        {
         "hoverinfo": "text",
         "line": {
          "color": "#888",
          "width": 1
         },
         "mode": "lines",
         "text": "1",
         "type": "scatter",
         "x": [
          -0.36172530157851474,
          0.017589172143526618,
          null
         ],
         "y": [
          0.4712833766636108,
          -0.010237166089509217,
          null
         ]
        },
        {
         "hoverinfo": "text",
         "line": {
          "color": "#888",
          "width": 1
         },
         "mode": "lines",
         "text": "1",
         "type": "scatter",
         "x": [
          -0.36172530157851474,
          -0.12595841857662435,
          null
         ],
         "y": [
          0.4712833766636108,
          0.6458942011941886,
          null
         ]
        },
        {
         "hoverinfo": "text",
         "line": {
          "color": "#888",
          "width": 1
         },
         "mode": "lines",
         "text": "1",
         "type": "scatter",
         "x": [
          -0.36172530157851474,
          -0.1851333527622661,
          null
         ],
         "y": [
          0.4712833766636108,
          0.4726527935880414,
          null
         ]
        },
        {
         "hoverinfo": "text",
         "line": {
          "color": "#888",
          "width": 1
         },
         "mode": "lines",
         "text": "1",
         "type": "scatter",
         "x": [
          -0.36172530157851474,
          -0.5881741593562335,
          null
         ],
         "y": [
          0.4712833766636108,
          0.6176332779022677,
          null
         ]
        },
        {
         "hoverinfo": "text",
         "line": {
          "color": "#888",
          "width": 1
         },
         "mode": "lines",
         "text": "1",
         "type": "scatter",
         "x": [
          -0.36172530157851474,
          -0.5591087612005271,
          null
         ],
         "y": [
          0.4712833766636108,
          0.44106087000140326,
          null
         ]
        },
        {
         "hoverinfo": "text",
         "line": {
          "color": "#888",
          "width": 1
         },
         "mode": "lines",
         "text": "1",
         "type": "scatter",
         "x": [
          -0.36172530157851474,
          -0.4432254486200955,
          null
         ],
         "y": [
          0.4712833766636108,
          0.7214509397827474,
          null
         ]
        },
        {
         "hoverinfo": "text",
         "line": {
          "color": "#888",
          "width": 1
         },
         "mode": "lines",
         "text": "1",
         "type": "scatter",
         "x": [
          -0.36172530157851474,
          -0.27410357366508753,
          null
         ],
         "y": [
          0.4712833766636108,
          0.7461723602104174,
          null
         ]
        },
        {
         "hoverinfo": "text",
         "line": {
          "color": "#888",
          "width": 1
         },
         "mode": "lines",
         "text": "1",
         "type": "scatter",
         "x": [
          -0.5277324098642471,
          0.017589172143526618,
          null
         ],
         "y": [
          -0.2623832688450973,
          -0.010237166089509217,
          null
         ]
        },
        {
         "hoverinfo": "text",
         "line": {
          "color": "#888",
          "width": 1
         },
         "mode": "lines",
         "text": "1",
         "type": "scatter",
         "x": [
          -0.5277324098642471,
          -0.35270536689196447,
          null
         ],
         "y": [
          -0.2623832688450973,
          -0.4323517720567574,
          null
         ]
        },
        {
         "hoverinfo": "text",
         "line": {
          "color": "#888",
          "width": 1
         },
         "mode": "lines",
         "text": "1",
         "type": "scatter",
         "x": [
          -0.5277324098642471,
          -0.7474693220490586,
          null
         ],
         "y": [
          -0.2623832688450973,
          -0.19662294317937665,
          null
         ]
        },
        {
         "hoverinfo": "text",
         "line": {
          "color": "#888",
          "width": 1
         },
         "mode": "lines",
         "text": "1",
         "type": "scatter",
         "x": [
          -0.35270536689196447,
          0.017589172143526618,
          null
         ],
         "y": [
          -0.4323517720567574,
          -0.010237166089509217,
          null
         ]
        },
        {
         "hoverinfo": "text",
         "line": {
          "color": "#888",
          "width": 1
         },
         "mode": "lines",
         "text": "1",
         "type": "scatter",
         "x": [
          -0.35270536689196447,
          -0.7474693220490586,
          null
         ],
         "y": [
          -0.4323517720567574,
          -0.19662294317937665,
          null
         ]
        },
        {
         "hoverinfo": "text",
         "line": {
          "color": "#888",
          "width": 1
         },
         "mode": "lines",
         "text": "1",
         "type": "scatter",
         "x": [
          -0.5881741593562335,
          0.017589172143526618,
          null
         ],
         "y": [
          0.6176332779022677,
          -0.010237166089509217,
          null
         ]
        },
        {
         "hoverinfo": "text",
         "line": {
          "color": "#888",
          "width": 1
         },
         "mode": "lines",
         "text": "1",
         "type": "scatter",
         "x": [
          -0.5881741593562335,
          -0.12595841857662435,
          null
         ],
         "y": [
          0.6176332779022677,
          0.6458942011941886,
          null
         ]
        },
        {
         "hoverinfo": "text",
         "line": {
          "color": "#888",
          "width": 1
         },
         "mode": "lines",
         "text": "1",
         "type": "scatter",
         "x": [
          -0.5881741593562335,
          -0.1851333527622661,
          null
         ],
         "y": [
          0.6176332779022677,
          0.4726527935880414,
          null
         ]
        },
        {
         "hoverinfo": "text",
         "line": {
          "color": "#888",
          "width": 1
         },
         "mode": "lines",
         "text": "1",
         "type": "scatter",
         "x": [
          -0.5881741593562335,
          -0.5591087612005271,
          null
         ],
         "y": [
          0.6176332779022677,
          0.44106087000140326,
          null
         ]
        },
        {
         "hoverinfo": "text",
         "line": {
          "color": "#888",
          "width": 1
         },
         "mode": "lines",
         "text": "1",
         "type": "scatter",
         "x": [
          -0.5881741593562335,
          -0.4432254486200955,
          null
         ],
         "y": [
          0.6176332779022677,
          0.7214509397827474,
          null
         ]
        },
        {
         "hoverinfo": "text",
         "line": {
          "color": "#888",
          "width": 1
         },
         "mode": "lines",
         "text": "1",
         "type": "scatter",
         "x": [
          -0.5881741593562335,
          -0.27410357366508753,
          null
         ],
         "y": [
          0.6176332779022677,
          0.7461723602104174,
          null
         ]
        },
        {
         "hoverinfo": "text",
         "line": {
          "color": "#888",
          "width": 1
         },
         "mode": "lines",
         "text": "1",
         "type": "scatter",
         "x": [
          -0.1851333527622661,
          0.017589172143526618,
          null
         ],
         "y": [
          0.4726527935880414,
          -0.010237166089509217,
          null
         ]
        },
        {
         "hoverinfo": "text",
         "line": {
          "color": "#888",
          "width": 1
         },
         "mode": "lines",
         "text": "1",
         "type": "scatter",
         "x": [
          -0.1851333527622661,
          -0.12595841857662435,
          null
         ],
         "y": [
          0.4726527935880414,
          0.6458942011941886,
          null
         ]
        },
        {
         "hoverinfo": "text",
         "line": {
          "color": "#888",
          "width": 1
         },
         "mode": "lines",
         "text": "1",
         "type": "scatter",
         "x": [
          -0.1851333527622661,
          -0.5591087612005271,
          null
         ],
         "y": [
          0.4726527935880414,
          0.44106087000140326,
          null
         ]
        },
        {
         "hoverinfo": "text",
         "line": {
          "color": "#888",
          "width": 1
         },
         "mode": "lines",
         "text": "1",
         "type": "scatter",
         "x": [
          -0.1851333527622661,
          -0.4432254486200955,
          null
         ],
         "y": [
          0.4726527935880414,
          0.7214509397827474,
          null
         ]
        },
        {
         "hoverinfo": "text",
         "line": {
          "color": "#888",
          "width": 1
         },
         "mode": "lines",
         "text": "1",
         "type": "scatter",
         "x": [
          -0.1851333527622661,
          -0.27410357366508753,
          null
         ],
         "y": [
          0.4726527935880414,
          0.7461723602104174,
          null
         ]
        },
        {
         "hoverinfo": "text",
         "line": {
          "color": "#888",
          "width": 1
         },
         "mode": "lines",
         "text": "1",
         "type": "scatter",
         "x": [
          0.8187512006778593,
          0.017589172143526618,
          null
         ],
         "y": [
          -0.38467647791328624,
          -0.010237166089509217,
          null
         ]
        },
        {
         "hoverinfo": "text",
         "line": {
          "color": "#888",
          "width": 1
         },
         "mode": "lines",
         "text": "1",
         "type": "scatter",
         "x": [
          0.8187512006778593,
          1,
          null
         ],
         "y": [
          -0.38467647791328624,
          -0.05334987819834092,
          null
         ]
        },
        {
         "hoverinfo": "text",
         "line": {
          "color": "#888",
          "width": 1
         },
         "mode": "lines",
         "text": "1",
         "type": "scatter",
         "x": [
          0.8187512006778593,
          0.7086611134966031,
          null
         ],
         "y": [
          -0.38467647791328624,
          0.1197717392208018,
          null
         ]
        },
        {
         "hoverinfo": "text",
         "line": {
          "color": "#888",
          "width": 1
         },
         "mode": "lines",
         "text": "1",
         "type": "scatter",
         "x": [
          0.8187512006778593,
          0.5998329820783311,
          null
         ],
         "y": [
          -0.38467647791328624,
          -0.2208907178766666,
          null
         ]
        },
        {
         "hoverinfo": "text",
         "line": {
          "color": "#888",
          "width": 1
         },
         "mode": "lines",
         "text": "1",
         "type": "scatter",
         "x": [
          -0.27410357366508753,
          0.017589172143526618,
          null
         ],
         "y": [
          0.7461723602104174,
          -0.010237166089509217,
          null
         ]
        },
        {
         "hoverinfo": "text",
         "line": {
          "color": "#888",
          "width": 1
         },
         "mode": "lines",
         "text": "1",
         "type": "scatter",
         "x": [
          -0.27410357366508753,
          -0.12595841857662435,
          null
         ],
         "y": [
          0.7461723602104174,
          0.6458942011941886,
          null
         ]
        },
        {
         "hoverinfo": "text",
         "line": {
          "color": "#888",
          "width": 1
         },
         "mode": "lines",
         "text": "1",
         "type": "scatter",
         "x": [
          -0.27410357366508753,
          -0.5591087612005271,
          null
         ],
         "y": [
          0.7461723602104174,
          0.44106087000140326,
          null
         ]
        },
        {
         "hoverinfo": "text",
         "line": {
          "color": "#888",
          "width": 1
         },
         "mode": "lines",
         "text": "1",
         "type": "scatter",
         "x": [
          -0.27410357366508753,
          -0.4432254486200955,
          null
         ],
         "y": [
          0.7461723602104174,
          0.7214509397827474,
          null
         ]
        },
        {
         "hoverinfo": "text",
         "line": {
          "color": "#888",
          "width": 1
         },
         "mode": "lines",
         "text": "1",
         "type": "scatter",
         "x": [
          -0.4432254486200955,
          0.017589172143526618,
          null
         ],
         "y": [
          0.7214509397827474,
          -0.010237166089509217,
          null
         ]
        },
        {
         "hoverinfo": "text",
         "line": {
          "color": "#888",
          "width": 1
         },
         "mode": "lines",
         "text": "1",
         "type": "scatter",
         "x": [
          -0.4432254486200955,
          -0.12595841857662435,
          null
         ],
         "y": [
          0.7214509397827474,
          0.6458942011941886,
          null
         ]
        },
        {
         "hoverinfo": "text",
         "line": {
          "color": "#888",
          "width": 1
         },
         "mode": "lines",
         "text": "1",
         "type": "scatter",
         "x": [
          -0.4432254486200955,
          -0.5591087612005271,
          null
         ],
         "y": [
          0.7214509397827474,
          0.44106087000140326,
          null
         ]
        },
        {
         "hoverinfo": "text",
         "line": {
          "color": "#888",
          "width": 1
         },
         "mode": "lines",
         "text": "1",
         "type": "scatter",
         "x": [
          0.5998329820783311,
          0.017589172143526618,
          null
         ],
         "y": [
          -0.2208907178766666,
          -0.010237166089509217,
          null
         ]
        },
        {
         "hoverinfo": "text",
         "line": {
          "color": "#888",
          "width": 1
         },
         "mode": "lines",
         "text": "1",
         "type": "scatter",
         "x": [
          0.5998329820783311,
          1,
          null
         ],
         "y": [
          -0.2208907178766666,
          -0.05334987819834092,
          null
         ]
        },
        {
         "hoverinfo": "text",
         "line": {
          "color": "#888",
          "width": 1
         },
         "mode": "lines",
         "text": "1",
         "type": "scatter",
         "x": [
          0.5998329820783311,
          0.7086611134966031,
          null
         ],
         "y": [
          -0.2208907178766666,
          0.1197717392208018,
          null
         ]
        },
        {
         "hoverinfo": "text",
         "line": {
          "color": "#888",
          "width": 1
         },
         "mode": "lines",
         "text": "1",
         "type": "scatter",
         "x": [
          -0.12595841857662435,
          0.017589172143526618,
          null
         ],
         "y": [
          0.6458942011941886,
          -0.010237166089509217,
          null
         ]
        },
        {
         "hoverinfo": "text",
         "line": {
          "color": "#888",
          "width": 1
         },
         "mode": "lines",
         "text": "1",
         "type": "scatter",
         "x": [
          -0.12595841857662435,
          -0.5591087612005271,
          null
         ],
         "y": [
          0.6458942011941886,
          0.44106087000140326,
          null
         ]
        },
        {
         "hoverinfo": "text",
         "line": {
          "color": "#888",
          "width": 1
         },
         "mode": "lines",
         "text": "1",
         "type": "scatter",
         "x": [
          0.7086611134966031,
          0.017589172143526618,
          null
         ],
         "y": [
          0.1197717392208018,
          -0.010237166089509217,
          null
         ]
        },
        {
         "hoverinfo": "text",
         "line": {
          "color": "#888",
          "width": 1
         },
         "mode": "lines",
         "text": "1",
         "type": "scatter",
         "x": [
          0.7086611134966031,
          1,
          null
         ],
         "y": [
          0.1197717392208018,
          -0.05334987819834092,
          null
         ]
        },
        {
         "hoverinfo": "text",
         "line": {
          "color": "#888",
          "width": 1
         },
         "mode": "lines",
         "text": "1",
         "type": "scatter",
         "x": [
          0.017589172143526618,
          1,
          null
         ],
         "y": [
          -0.010237166089509217,
          -0.05334987819834092,
          null
         ]
        },
        {
         "hoverinfo": "text",
         "line": {
          "color": "#888",
          "width": 1
         },
         "mode": "lines",
         "text": "1",
         "type": "scatter",
         "x": [
          0.017589172143526618,
          -0.7474693220490586,
          null
         ],
         "y": [
          -0.010237166089509217,
          -0.19662294317937665,
          null
         ]
        },
        {
         "hoverinfo": "text",
         "line": {
          "color": "#888",
          "width": 1
         },
         "mode": "lines",
         "text": "1",
         "type": "scatter",
         "x": [
          0.017589172143526618,
          -0.5591087612005271,
          null
         ],
         "y": [
          -0.010237166089509217,
          0.44106087000140326,
          null
         ]
        },
        {
         "hoverinfo": "text",
         "marker": {
          "color": [
           8,
           9,
           15,
           9,
           8,
           9,
           8,
           9,
           8,
           9,
           8,
           8,
           8,
           8,
           8,
           9,
           8,
           8,
           9,
           8,
           9,
           24,
           9,
           8,
           8
          ],
          "colorbar": {
           "thickness": 15,
           "title": {
            "side": "right",
            "text": "Node Connections"
           },
           "xanchor": "left"
          },
          "colorscale": [
           [
            0,
            "rgb(255,255,217)"
           ],
           [
            0.125,
            "rgb(237,248,177)"
           ],
           [
            0.25,
            "rgb(199,233,180)"
           ],
           [
            0.375,
            "rgb(127,205,187)"
           ],
           [
            0.5,
            "rgb(65,182,196)"
           ],
           [
            0.625,
            "rgb(29,145,192)"
           ],
           [
            0.75,
            "rgb(34,94,168)"
           ],
           [
            0.875,
            "rgb(37,52,148)"
           ],
           [
            1,
            "rgb(8,29,88)"
           ]
          ],
          "line": {
           "width": 2
          },
          "reversescale": true,
          "showscale": true,
          "size": [
           9.6,
           10.799999999999999,
           18,
           10.799999999999999,
           9.6,
           10.799999999999999,
           9.6,
           10.799999999999999,
           9.6,
           10.799999999999999,
           9.6,
           9.6,
           9.6,
           9.6,
           9.6,
           10.799999999999999,
           9.6,
           9.6,
           10.799999999999999,
           9.6,
           10.799999999999999,
           28.799999999999997,
           10.799999999999999,
           9.6,
           9.6
          ]
         },
         "mode": "markers",
         "text": [
          "Jung Woong-in has 8 connection(s)",
          "Lee You-mi has 9 connection(s)",
          "Jung Jin-young has 15 connection(s)",
          "You Seong-joo has 9 connection(s)",
          "Kim Dong-jun has 8 connection(s)",
          "Park Hae-soo has 9 connection(s)",
          "Kim Hong-pa has 8 connection(s)",
          "Kim Joo-ryoung has 9 connection(s)",
          "Kim Kap-soo has 8 connection(s)",
          "Tripathi Anupam has 9 connection(s)",
          "Lee Jae-in has 8 connection(s)",
          "Im Won-hee has 8 connection(s)",
          "Shin Mina has 8 connection(s)",
          "Lee Da-wit has 8 connection(s)",
          "Yoo Ji-tae has 8 connection(s)",
          "Oh Young-soo has 9 connection(s)",
          "Min Tanaka has 8 connection(s)",
          "Ji Seung-hyeon has 8 connection(s)",
          "Heo Sung-tae has 9 connection(s)",
          "Park Jung-min has 8 connection(s)",
          "Jung Ho-yeon has 9 connection(s)",
          "Lee Jung-jae has 24 connection(s)",
          "Wi Ha-jun has 9 connection(s)",
          "Jin Seon-kyu has 8 connection(s)",
          "Lee Elijah has 8 connection(s)"
         ],
         "type": "scatter",
         "x": [
          -0.7873709031840862,
          0.8369266613866919,
          -0.4603347211535667,
          0.6449163599255118,
          -0.7023009852737886,
          0.975318105183847,
          -0.46081524835473675,
          0.8822548739160904,
          -0.5567148951208876,
          0.6486223988432243,
          -0.36172530157851474,
          -0.5277324098642471,
          -0.35270536689196447,
          -0.5881741593562335,
          -0.1851333527622661,
          0.8187512006778593,
          -0.27410357366508753,
          -0.4432254486200955,
          0.5998329820783311,
          -0.12595841857662435,
          0.7086611134966031,
          0.017589172143526618,
          1,
          -0.5591087612005271,
          -0.7474693220490586
         ],
         "y": [
          -0.36867232972473907,
          -0.14798427061816935,
          0.0850622885358145,
          -0.049794762770372994,
          -0.5509187851962309,
          -0.28245574185229894,
          -0.6115577085457277,
          0.09111578092709262,
          -0.4493580109080252,
          -0.3908437942517894,
          0.4712833766636108,
          -0.2623832688450973,
          -0.4323517720567574,
          0.6176332779022677,
          0.4726527935880414,
          -0.38467647791328624,
          0.7461723602104174,
          0.7214509397827474,
          -0.2208907178766666,
          0.6458942011941886,
          0.1197717392208018,
          -0.010237166089509217,
          -0.05334987819834092,
          0.44106087000140326,
          -0.19662294317937665
         ]
        },
        {
         "hoverinfo": "text",
         "marker": {
          "color": "red",
          "line": {
           "width": 2
          }
         },
         "mode": "markers",
         "type": "scatter",
         "x": [
          0.7086611134966031,
          0.017589172143526618
         ],
         "y": [
          0.1197717392208018,
          -0.010237166089509217
         ]
        }
       ],
       "layout": {
        "hovermode": "closest",
        "margin": {
         "b": 20,
         "l": 5,
         "r": 5,
         "t": 40
        },
        "showlegend": false,
        "template": {
         "data": {
          "bar": [
           {
            "error_x": {
             "color": "#2a3f5f"
            },
            "error_y": {
             "color": "#2a3f5f"
            },
            "marker": {
             "line": {
              "color": "#E5ECF6",
              "width": 0.5
             },
             "pattern": {
              "fillmode": "overlay",
              "size": 10,
              "solidity": 0.2
             }
            },
            "type": "bar"
           }
          ],
          "barpolar": [
           {
            "marker": {
             "line": {
              "color": "#E5ECF6",
              "width": 0.5
             },
             "pattern": {
              "fillmode": "overlay",
              "size": 10,
              "solidity": 0.2
             }
            },
            "type": "barpolar"
           }
          ],
          "carpet": [
           {
            "aaxis": {
             "endlinecolor": "#2a3f5f",
             "gridcolor": "white",
             "linecolor": "white",
             "minorgridcolor": "white",
             "startlinecolor": "#2a3f5f"
            },
            "baxis": {
             "endlinecolor": "#2a3f5f",
             "gridcolor": "white",
             "linecolor": "white",
             "minorgridcolor": "white",
             "startlinecolor": "#2a3f5f"
            },
            "type": "carpet"
           }
          ],
          "choropleth": [
           {
            "colorbar": {
             "outlinewidth": 0,
             "ticks": ""
            },
            "type": "choropleth"
           }
          ],
          "contour": [
           {
            "colorbar": {
             "outlinewidth": 0,
             "ticks": ""
            },
            "colorscale": [
             [
              0,
              "#0d0887"
             ],
             [
              0.1111111111111111,
              "#46039f"
             ],
             [
              0.2222222222222222,
              "#7201a8"
             ],
             [
              0.3333333333333333,
              "#9c179e"
             ],
             [
              0.4444444444444444,
              "#bd3786"
             ],
             [
              0.5555555555555556,
              "#d8576b"
             ],
             [
              0.6666666666666666,
              "#ed7953"
             ],
             [
              0.7777777777777778,
              "#fb9f3a"
             ],
             [
              0.8888888888888888,
              "#fdca26"
             ],
             [
              1,
              "#f0f921"
             ]
            ],
            "type": "contour"
           }
          ],
          "contourcarpet": [
           {
            "colorbar": {
             "outlinewidth": 0,
             "ticks": ""
            },
            "type": "contourcarpet"
           }
          ],
          "heatmap": [
           {
            "colorbar": {
             "outlinewidth": 0,
             "ticks": ""
            },
            "colorscale": [
             [
              0,
              "#0d0887"
             ],
             [
              0.1111111111111111,
              "#46039f"
             ],
             [
              0.2222222222222222,
              "#7201a8"
             ],
             [
              0.3333333333333333,
              "#9c179e"
             ],
             [
              0.4444444444444444,
              "#bd3786"
             ],
             [
              0.5555555555555556,
              "#d8576b"
             ],
             [
              0.6666666666666666,
              "#ed7953"
             ],
             [
              0.7777777777777778,
              "#fb9f3a"
             ],
             [
              0.8888888888888888,
              "#fdca26"
             ],
             [
              1,
              "#f0f921"
             ]
            ],
            "type": "heatmap"
           }
          ],
          "heatmapgl": [
           {
            "colorbar": {
             "outlinewidth": 0,
             "ticks": ""
            },
            "colorscale": [
             [
              0,
              "#0d0887"
             ],
             [
              0.1111111111111111,
              "#46039f"
             ],
             [
              0.2222222222222222,
              "#7201a8"
             ],
             [
              0.3333333333333333,
              "#9c179e"
             ],
             [
              0.4444444444444444,
              "#bd3786"
             ],
             [
              0.5555555555555556,
              "#d8576b"
             ],
             [
              0.6666666666666666,
              "#ed7953"
             ],
             [
              0.7777777777777778,
              "#fb9f3a"
             ],
             [
              0.8888888888888888,
              "#fdca26"
             ],
             [
              1,
              "#f0f921"
             ]
            ],
            "type": "heatmapgl"
           }
          ],
          "histogram": [
           {
            "marker": {
             "pattern": {
              "fillmode": "overlay",
              "size": 10,
              "solidity": 0.2
             }
            },
            "type": "histogram"
           }
          ],
          "histogram2d": [
           {
            "colorbar": {
             "outlinewidth": 0,
             "ticks": ""
            },
            "colorscale": [
             [
              0,
              "#0d0887"
             ],
             [
              0.1111111111111111,
              "#46039f"
             ],
             [
              0.2222222222222222,
              "#7201a8"
             ],
             [
              0.3333333333333333,
              "#9c179e"
             ],
             [
              0.4444444444444444,
              "#bd3786"
             ],
             [
              0.5555555555555556,
              "#d8576b"
             ],
             [
              0.6666666666666666,
              "#ed7953"
             ],
             [
              0.7777777777777778,
              "#fb9f3a"
             ],
             [
              0.8888888888888888,
              "#fdca26"
             ],
             [
              1,
              "#f0f921"
             ]
            ],
            "type": "histogram2d"
           }
          ],
          "histogram2dcontour": [
           {
            "colorbar": {
             "outlinewidth": 0,
             "ticks": ""
            },
            "colorscale": [
             [
              0,
              "#0d0887"
             ],
             [
              0.1111111111111111,
              "#46039f"
             ],
             [
              0.2222222222222222,
              "#7201a8"
             ],
             [
              0.3333333333333333,
              "#9c179e"
             ],
             [
              0.4444444444444444,
              "#bd3786"
             ],
             [
              0.5555555555555556,
              "#d8576b"
             ],
             [
              0.6666666666666666,
              "#ed7953"
             ],
             [
              0.7777777777777778,
              "#fb9f3a"
             ],
             [
              0.8888888888888888,
              "#fdca26"
             ],
             [
              1,
              "#f0f921"
             ]
            ],
            "type": "histogram2dcontour"
           }
          ],
          "mesh3d": [
           {
            "colorbar": {
             "outlinewidth": 0,
             "ticks": ""
            },
            "type": "mesh3d"
           }
          ],
          "parcoords": [
           {
            "line": {
             "colorbar": {
              "outlinewidth": 0,
              "ticks": ""
             }
            },
            "type": "parcoords"
           }
          ],
          "pie": [
           {
            "automargin": true,
            "type": "pie"
           }
          ],
          "scatter": [
           {
            "marker": {
             "colorbar": {
              "outlinewidth": 0,
              "ticks": ""
             }
            },
            "type": "scatter"
           }
          ],
          "scatter3d": [
           {
            "line": {
             "colorbar": {
              "outlinewidth": 0,
              "ticks": ""
             }
            },
            "marker": {
             "colorbar": {
              "outlinewidth": 0,
              "ticks": ""
             }
            },
            "type": "scatter3d"
           }
          ],
          "scattercarpet": [
           {
            "marker": {
             "colorbar": {
              "outlinewidth": 0,
              "ticks": ""
             }
            },
            "type": "scattercarpet"
           }
          ],
          "scattergeo": [
           {
            "marker": {
             "colorbar": {
              "outlinewidth": 0,
              "ticks": ""
             }
            },
            "type": "scattergeo"
           }
          ],
          "scattergl": [
           {
            "marker": {
             "colorbar": {
              "outlinewidth": 0,
              "ticks": ""
             }
            },
            "type": "scattergl"
           }
          ],
          "scattermapbox": [
           {
            "marker": {
             "colorbar": {
              "outlinewidth": 0,
              "ticks": ""
             }
            },
            "type": "scattermapbox"
           }
          ],
          "scatterpolar": [
           {
            "marker": {
             "colorbar": {
              "outlinewidth": 0,
              "ticks": ""
             }
            },
            "type": "scatterpolar"
           }
          ],
          "scatterpolargl": [
           {
            "marker": {
             "colorbar": {
              "outlinewidth": 0,
              "ticks": ""
             }
            },
            "type": "scatterpolargl"
           }
          ],
          "scatterternary": [
           {
            "marker": {
             "colorbar": {
              "outlinewidth": 0,
              "ticks": ""
             }
            },
            "type": "scatterternary"
           }
          ],
          "surface": [
           {
            "colorbar": {
             "outlinewidth": 0,
             "ticks": ""
            },
            "colorscale": [
             [
              0,
              "#0d0887"
             ],
             [
              0.1111111111111111,
              "#46039f"
             ],
             [
              0.2222222222222222,
              "#7201a8"
             ],
             [
              0.3333333333333333,
              "#9c179e"
             ],
             [
              0.4444444444444444,
              "#bd3786"
             ],
             [
              0.5555555555555556,
              "#d8576b"
             ],
             [
              0.6666666666666666,
              "#ed7953"
             ],
             [
              0.7777777777777778,
              "#fb9f3a"
             ],
             [
              0.8888888888888888,
              "#fdca26"
             ],
             [
              1,
              "#f0f921"
             ]
            ],
            "type": "surface"
           }
          ],
          "table": [
           {
            "cells": {
             "fill": {
              "color": "#EBF0F8"
             },
             "line": {
              "color": "white"
             }
            },
            "header": {
             "fill": {
              "color": "#C8D4E3"
             },
             "line": {
              "color": "white"
             }
            },
            "type": "table"
           }
          ]
         },
         "layout": {
          "annotationdefaults": {
           "arrowcolor": "#2a3f5f",
           "arrowhead": 0,
           "arrowwidth": 1
          },
          "autotypenumbers": "strict",
          "coloraxis": {
           "colorbar": {
            "outlinewidth": 0,
            "ticks": ""
           }
          },
          "colorscale": {
           "diverging": [
            [
             0,
             "#8e0152"
            ],
            [
             0.1,
             "#c51b7d"
            ],
            [
             0.2,
             "#de77ae"
            ],
            [
             0.3,
             "#f1b6da"
            ],
            [
             0.4,
             "#fde0ef"
            ],
            [
             0.5,
             "#f7f7f7"
            ],
            [
             0.6,
             "#e6f5d0"
            ],
            [
             0.7,
             "#b8e186"
            ],
            [
             0.8,
             "#7fbc41"
            ],
            [
             0.9,
             "#4d9221"
            ],
            [
             1,
             "#276419"
            ]
           ],
           "sequential": [
            [
             0,
             "#0d0887"
            ],
            [
             0.1111111111111111,
             "#46039f"
            ],
            [
             0.2222222222222222,
             "#7201a8"
            ],
            [
             0.3333333333333333,
             "#9c179e"
            ],
            [
             0.4444444444444444,
             "#bd3786"
            ],
            [
             0.5555555555555556,
             "#d8576b"
            ],
            [
             0.6666666666666666,
             "#ed7953"
            ],
            [
             0.7777777777777778,
             "#fb9f3a"
            ],
            [
             0.8888888888888888,
             "#fdca26"
            ],
            [
             1,
             "#f0f921"
            ]
           ],
           "sequentialminus": [
            [
             0,
             "#0d0887"
            ],
            [
             0.1111111111111111,
             "#46039f"
            ],
            [
             0.2222222222222222,
             "#7201a8"
            ],
            [
             0.3333333333333333,
             "#9c179e"
            ],
            [
             0.4444444444444444,
             "#bd3786"
            ],
            [
             0.5555555555555556,
             "#d8576b"
            ],
            [
             0.6666666666666666,
             "#ed7953"
            ],
            [
             0.7777777777777778,
             "#fb9f3a"
            ],
            [
             0.8888888888888888,
             "#fdca26"
            ],
            [
             1,
             "#f0f921"
            ]
           ]
          },
          "colorway": [
           "#636efa",
           "#EF553B",
           "#00cc96",
           "#ab63fa",
           "#FFA15A",
           "#19d3f3",
           "#FF6692",
           "#B6E880",
           "#FF97FF",
           "#FECB52"
          ],
          "font": {
           "color": "#2a3f5f"
          },
          "geo": {
           "bgcolor": "white",
           "lakecolor": "white",
           "landcolor": "#E5ECF6",
           "showlakes": true,
           "showland": true,
           "subunitcolor": "white"
          },
          "hoverlabel": {
           "align": "left"
          },
          "hovermode": "closest",
          "mapbox": {
           "style": "light"
          },
          "paper_bgcolor": "white",
          "plot_bgcolor": "#E5ECF6",
          "polar": {
           "angularaxis": {
            "gridcolor": "white",
            "linecolor": "white",
            "ticks": ""
           },
           "bgcolor": "#E5ECF6",
           "radialaxis": {
            "gridcolor": "white",
            "linecolor": "white",
            "ticks": ""
           }
          },
          "scene": {
           "xaxis": {
            "backgroundcolor": "#E5ECF6",
            "gridcolor": "white",
            "gridwidth": 2,
            "linecolor": "white",
            "showbackground": true,
            "ticks": "",
            "zerolinecolor": "white"
           },
           "yaxis": {
            "backgroundcolor": "#E5ECF6",
            "gridcolor": "white",
            "gridwidth": 2,
            "linecolor": "white",
            "showbackground": true,
            "ticks": "",
            "zerolinecolor": "white"
           },
           "zaxis": {
            "backgroundcolor": "#E5ECF6",
            "gridcolor": "white",
            "gridwidth": 2,
            "linecolor": "white",
            "showbackground": true,
            "ticks": "",
            "zerolinecolor": "white"
           }
          },
          "shapedefaults": {
           "line": {
            "color": "#2a3f5f"
           }
          },
          "ternary": {
           "aaxis": {
            "gridcolor": "white",
            "linecolor": "white",
            "ticks": ""
           },
           "baxis": {
            "gridcolor": "white",
            "linecolor": "white",
            "ticks": ""
           },
           "bgcolor": "#E5ECF6",
           "caxis": {
            "gridcolor": "white",
            "linecolor": "white",
            "ticks": ""
           }
          },
          "title": {
           "x": 0.05
          },
          "xaxis": {
           "automargin": true,
           "gridcolor": "white",
           "linecolor": "white",
           "ticks": "",
           "title": {
            "standoff": 15
           },
           "zerolinecolor": "white",
           "zerolinewidth": 2
          },
          "yaxis": {
           "automargin": true,
           "gridcolor": "white",
           "linecolor": "white",
           "ticks": "",
           "title": {
            "standoff": 15
           },
           "zerolinecolor": "white",
           "zerolinewidth": 2
          }
         }
        },
        "title": {
         "font": {
          "size": 16
         },
         "text": "squid game's Network Graph"
        },
        "xaxis": {
         "showgrid": false,
         "showticklabels": false,
         "zeroline": false
        },
        "yaxis": {
         "showgrid": false,
         "showticklabels": false,
         "zeroline": false
        }
       }
      }
     },
     "metadata": {},
     "output_type": "display_data"
    }
   ],
   "source": [
    "getCastNetwork(cast_G, \"squid game\", [\"lee jung-jae\", \"jung ho-yeon\"])\n"
   ]
  },
  {
   "cell_type": "code",
   "execution_count": null,
   "metadata": {},
   "outputs": [],
   "source": []
  }
 ],
 "metadata": {
  "interpreter": {
   "hash": "31f2aee4e71d21fbe5cf8b01ff0e069b9275f58929596ceb00d14d90e3e16cd6"
  },
  "kernelspec": {
   "display_name": "Python 3.8.9 64-bit",
   "language": "python",
   "name": "python3"
  },
  "language_info": {
   "codemirror_mode": {
    "name": "ipython",
    "version": 3
   },
   "file_extension": ".py",
   "mimetype": "text/x-python",
   "name": "python",
   "nbconvert_exporter": "python",
   "pygments_lexer": "ipython3",
   "version": "3.9.7"
  },
  "orig_nbformat": 4
 },
 "nbformat": 4,
 "nbformat_minor": 2
}
