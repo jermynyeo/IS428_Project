{
 "cells": [
  {
   "cell_type": "code",
   "execution_count": null,
   "metadata": {},
   "outputs": [
    {
     "ename": "",
     "evalue": "",
     "output_type": "error",
     "traceback": [
      "\u001b[1;31mError: Failed to start the Kernel 'base (Python 3.9.7)'. \n",
      "View Jupyter <a href='command:jupyter.viewOutput'>log</a> for further details. Kernel has not been started"
     ]
    }
   ],
   "source": []
  },
  {
   "cell_type": "markdown",
   "metadata": {},
   "source": [
    "# Network"
   ]
  },
  {
   "cell_type": "code",
   "execution_count": 1,
   "metadata": {},
   "outputs": [],
   "source": [
    "import plotly.graph_objects as go\n",
    "import networkx as nx\n",
    "import pandas as pd"
   ]
  },
  {
   "cell_type": "code",
   "execution_count": 2,
   "metadata": {},
   "outputs": [],
   "source": [
    "def generateGraph(df, min_weight = 0):\n",
    "    G = nx.Graph()\n",
    "\n",
    "    for index, row in df.iterrows():\n",
    "        if (row[\"count\"] > min_weight): # more than 3 shows together\n",
    "            G.add_node(row[\"cast1\"])\n",
    "            G.add_node(row[\"cast2\"])\n",
    "            G.add_edge(row[\"cast1\"], row[\"cast2\"], weight = row[\"count\"])\n",
    "    return G\n"
   ]
  },
  {
   "cell_type": "code",
   "execution_count": 3,
   "metadata": {},
   "outputs": [],
   "source": [
    "df = pd.read_csv(\"./Data/generated/cast_network.csv\")\n",
    "cast_G = generateGraph(df)\n",
    "# full_G = generateGraph(df, 3)"
   ]
  },
  {
   "cell_type": "code",
   "execution_count": 4,
   "metadata": {},
   "outputs": [],
   "source": [
    "def generateNetwork(G):\n",
    "    pos_ = nx.spring_layout(G)\n",
    "\n",
    "    edge_x = []\n",
    "    edge_y = []\n",
    "    edge_width = []\n",
    "\n",
    "    for edge in G.edges():\n",
    "        x0, y0 = pos_[edge[0]][0], pos_[edge[0]][1]\n",
    "        x1, y1 = pos_[edge[1]][0], pos_[edge[1]][1]\n",
    "        edge_width.append(G[edge[0]][edge[1]][\"weight\"])\n",
    "        edge_x.append([x0,x1,None])\n",
    "        edge_y.append([y0,y1,None])\n",
    "        \n",
    "    edge_trace = []\n",
    "    for i in range(len(edge_x)):\n",
    "        trace = go.Scatter(\n",
    "            x = edge_x[i], y = edge_y[i],\n",
    "            line=dict(width=edge_width[i] * 0.5, color='#888'),\n",
    "            text=edge_width[i],\n",
    "            hoverinfo = 'text',\n",
    "            mode='lines')\n",
    "        edge_trace.append(trace)\n",
    "        \n",
    "    node_x = []\n",
    "    node_y = []\n",
    "    for node in G.nodes():\n",
    "        x, y = pos_[node][0], pos_[node][1] \n",
    "        node_x.append(x)\n",
    "        node_y.append(y)\n",
    "\n",
    "    node_trace = go.Scatter(\n",
    "        x=node_x, y=node_y,\n",
    "        mode='markers',\n",
    "        hoverinfo='text',\n",
    "        marker=dict(\n",
    "            showscale=True,\n",
    "            # colorscale options\n",
    "            #'Greys' | 'YlGnBu' | 'Greens' | 'YlOrRd' | 'Bluered' | 'RdBu' |\n",
    "            #'Reds' | 'Blues' | 'Picnic' | 'Rainbow' | 'Portland' | 'Jet' |\n",
    "            #'Hot' | 'Blackbody' | 'Earth' | 'Electric' | 'Viridis' |\n",
    "            colorscale='YlGnBu',\n",
    "            reversescale=True,\n",
    "            colorbar=dict(\n",
    "                thickness=15,\n",
    "                title='Node Connections',\n",
    "                xanchor='left',\n",
    "                titleside='right'\n",
    "            ),\n",
    "            line_width=2))\n",
    "\n",
    "    node_adjacencies = []\n",
    "    node_text = []\n",
    "    node_size = []\n",
    "    for node, adjacencies in enumerate(G.adjacency()):\n",
    "        node_adjacencies.append(len(adjacencies[1]))\n",
    "        node_text.append(f'{adjacencies[0]} has {len(adjacencies[1])} connection(s)')\n",
    "        node_size.append(len(adjacencies[1]) * 1.2) \n",
    "\n",
    "    node_trace.marker.color = node_adjacencies\n",
    "    node_trace.text = node_text\n",
    "    node_trace.marker.size = node_size\n",
    "\n",
    "\n",
    "    fig = go.Figure(data=edge_trace + [node_trace],\n",
    "                layout=go.Layout(\n",
    "                    title='Netflix Cast Network Graph',\n",
    "                    titlefont_size=16,\n",
    "                    showlegend=False,\n",
    "                    hovermode='closest',\n",
    "                    margin=dict(b=20,l=5,r=5,t=40),\n",
    "                    xaxis=dict(showgrid=False, zeroline=False, showticklabels=False),\n",
    "                    yaxis=dict(showgrid=False, zeroline=False, showticklabels=False))\n",
    "                    )\n",
    "    fig.show()"
   ]
  },
  {
   "cell_type": "code",
   "execution_count": 11,
   "metadata": {},
   "outputs": [],
   "source": [
    "def getCastNetwork(G, cast):\n",
    "    \n",
    "    for adj in G.adjacency():\n",
    "        if (adj[0].lower() == cast.lower()):\n",
    "            subG_nodes = [adj[0]]\n",
    "            subG_nodes += adj[1].keys()\n",
    "            break\n",
    "\n",
    "    G = G.subgraph(subG_nodes)\n",
    "\n",
    "    pos_ = nx.spring_layout(G)\n",
    "\n",
    "    edge_x = []\n",
    "    edge_y = []\n",
    "    edge_width = []\n",
    "\n",
    "    for edge in G.edges():\n",
    "        x0, y0 = pos_[edge[0]][0], pos_[edge[0]][1]\n",
    "        x1, y1 = pos_[edge[1]][0], pos_[edge[1]][1]\n",
    "        edge_width.append(G[edge[0]][edge[1]][\"weight\"])\n",
    "        edge_x.append([x0,x1,None])\n",
    "        edge_y.append([y0,y1,None])\n",
    "        \n",
    "    edge_trace = []\n",
    "    for i in range(len(edge_x)):\n",
    "        trace = go.Scatter(\n",
    "            x = edge_x[i], y = edge_y[i],\n",
    "            line=dict(width=edge_width[i], color='#888'),\n",
    "            text=edge_width[i],\n",
    "            hoverinfo = 'text',\n",
    "            mode='lines')\n",
    "        edge_trace.append(trace)\n",
    "        \n",
    "    node_x = []\n",
    "    node_y = []\n",
    "    for node in G.nodes():\n",
    "        x, y = pos_[node][0], pos_[node][1] \n",
    "        node_x.append(x)\n",
    "        node_y.append(y)\n",
    "\n",
    "    search_trace = go.Scatter(\n",
    "        x=[pos_[subG_nodes[0]][0]], y=[pos_[subG_nodes[0]][1]],\n",
    "        mode='markers',\n",
    "        hoverinfo='text',\n",
    "        marker=dict(\n",
    "            color='red',\n",
    "            line_width=2))\n",
    "\n",
    "    node_trace = go.Scatter(\n",
    "        x=node_x, y=node_y,\n",
    "        mode='markers',\n",
    "        hoverinfo='text',\n",
    "        marker=dict(\n",
    "            showscale=True,\n",
    "            # colorscale options\n",
    "            #'Greys' | 'YlGnBu' | 'Greens' | 'YlOrRd' | 'Bluered' | 'RdBu' |\n",
    "            #'Reds' | 'Blues' | 'Picnic' | 'Rainbow' | 'Portland' | 'Jet' |\n",
    "            #'Hot' | 'Blackbody' | 'Earth' | 'Electric' | 'Viridis' |\n",
    "            colorscale='YlGnBu',\n",
    "            reversescale=True,\n",
    "            color=[],\n",
    "            colorbar=dict(\n",
    "                thickness=15,\n",
    "                title='Node Connections',\n",
    "                xanchor='left',\n",
    "                titleside='right'\n",
    "            ),\n",
    "            line_width=2))\n",
    "\n",
    "    node_adjacencies = []\n",
    "    node_text = []\n",
    "    node_size = []\n",
    "    for node, adjacencies in enumerate(G.adjacency()):\n",
    "        node_adjacencies.append(len(adjacencies[1]))\n",
    "        node_text.append(f'{adjacencies[0]} has {len(adjacencies[1])} connection(s)')\n",
    "        node_size.append(len(adjacencies[1]) * 1.2) \n",
    "\n",
    "    node_trace.marker.color = node_adjacencies\n",
    "    node_trace.text = node_text\n",
    "    node_trace.marker.size = node_size\n",
    "\n",
    "\n",
    "    fig = go.Figure(data=edge_trace + [node_trace] + [search_trace],\n",
    "                layout=go.Layout(\n",
    "                    title=f'{subG_nodes[0]}\\'s Network Graph',\n",
    "                    titlefont_size=16,\n",
    "                    showlegend=False,\n",
    "                    hovermode='closest',\n",
    "                    margin=dict(b=20,l=5,r=5,t=40),\n",
    "                    xaxis=dict(showgrid=False, zeroline=False, showticklabels=False),\n",
    "                    yaxis=dict(showgrid=False, zeroline=False, showticklabels=False))\n",
    "                    )\n",
    "    fig.show()"
   ]
  },
  {
   "cell_type": "code",
   "execution_count": 12,
   "metadata": {},
   "outputs": [],
   "source": [
    "# generateNetwork(full_G)"
   ]
  },
  {
   "cell_type": "code",
   "execution_count": 14,
   "metadata": {},
   "outputs": [
    {
     "data": {
      "application/vnd.plotly.v1+json": {
       "config": {
        "plotlyServerURL": "https://plot.ly"
       },
       "data": [
        {
         "hoverinfo": "text",
         "line": {
          "color": "#888",
          "width": 1
         },
         "mode": "lines",
         "text": "1",
         "type": "scatter",
         "x": [
          0.3871584009391772,
          0.020978478129541973,
          null
         ],
         "y": [
          -0.6066183371343581,
          -0.016998163207901713,
          null
         ]
        },
        {
         "hoverinfo": "text",
         "line": {
          "color": "#888",
          "width": 1
         },
         "mode": "lines",
         "text": "1",
         "type": "scatter",
         "x": [
          0.3871584009391772,
          0.543998985662883,
          null
         ],
         "y": [
          -0.6066183371343581,
          -0.4670176324511861,
          null
         ]
        },
        {
         "hoverinfo": "text",
         "line": {
          "color": "#888",
          "width": 1
         },
         "mode": "lines",
         "text": "1",
         "type": "scatter",
         "x": [
          0.3871584009391772,
          0.36941371845244286,
          null
         ],
         "y": [
          -0.6066183371343581,
          -0.8117594378390625,
          null
         ]
        },
        {
         "hoverinfo": "text",
         "line": {
          "color": "#888",
          "width": 1
         },
         "mode": "lines",
         "text": "1",
         "type": "scatter",
         "x": [
          0.3871584009391772,
          0.6806425577131024,
          null
         ],
         "y": [
          -0.6066183371343581,
          -0.6507053213438142,
          null
         ]
        },
        {
         "hoverinfo": "text",
         "line": {
          "color": "#888",
          "width": 1
         },
         "mode": "lines",
         "text": "1",
         "type": "scatter",
         "x": [
          0.3871584009391772,
          0.5444821663232401,
          null
         ],
         "y": [
          -0.6066183371343581,
          -0.8807587490030047,
          null
         ]
        },
        {
         "hoverinfo": "text",
         "line": {
          "color": "#888",
          "width": 1
         },
         "mode": "lines",
         "text": "1",
         "type": "scatter",
         "x": [
          0.3871584009391772,
          0.7455679271707563,
          null
         ],
         "y": [
          -0.6066183371343581,
          -0.8715943472227545,
          null
         ]
        },
        {
         "hoverinfo": "text",
         "line": {
          "color": "#888",
          "width": 1
         },
         "mode": "lines",
         "text": "1",
         "type": "scatter",
         "x": [
          0.3871584009391772,
          0.8867876619302633,
          null
         ],
         "y": [
          -0.6066183371343581,
          -0.4603523239472111,
          null
         ]
        },
        {
         "hoverinfo": "text",
         "line": {
          "color": "#888",
          "width": 1
         },
         "mode": "lines",
         "text": "1",
         "type": "scatter",
         "x": [
          0.3871584009391772,
          0.8963497016713379,
          null
         ],
         "y": [
          -0.6066183371343581,
          -0.6760655033222939,
          null
         ]
        },
        {
         "hoverinfo": "text",
         "line": {
          "color": "#888",
          "width": 1
         },
         "mode": "lines",
         "text": "1",
         "type": "scatter",
         "x": [
          0.3871584009391772,
          0.7171622196643527,
          null
         ],
         "y": [
          -0.6066183371343581,
          -0.3510688276535336,
          null
         ]
        },
        {
         "hoverinfo": "text",
         "line": {
          "color": "#888",
          "width": 1
         },
         "mode": "lines",
         "text": "1",
         "type": "scatter",
         "x": [
          -0.7578418495017754,
          0.020978478129541973,
          null
         ],
         "y": [
          -0.012863361901354451,
          -0.016998163207901713,
          null
         ]
        },
        {
         "hoverinfo": "text",
         "line": {
          "color": "#888",
          "width": 1
         },
         "mode": "lines",
         "text": "1",
         "type": "scatter",
         "x": [
          -0.7578418495017754,
          -1,
          null
         ],
         "y": [
          -0.012863361901354451,
          -0.03426229098514391,
          null
         ]
        },
        {
         "hoverinfo": "text",
         "line": {
          "color": "#888",
          "width": 1
         },
         "mode": "lines",
         "text": "1",
         "type": "scatter",
         "x": [
          -0.7578418495017754,
          -0.5534681826995415,
          null
         ],
         "y": [
          -0.012863361901354451,
          -0.08012555895409858,
          null
         ]
        },
        {
         "hoverinfo": "text",
         "line": {
          "color": "#888",
          "width": 1
         },
         "mode": "lines",
         "text": "1",
         "type": "scatter",
         "x": [
          -0.7578418495017754,
          -0.367034523520304,
          null
         ],
         "y": [
          -0.012863361901354451,
          0.37609710988691913,
          null
         ]
        },
        {
         "hoverinfo": "text",
         "line": {
          "color": "#888",
          "width": 1
         },
         "mode": "lines",
         "text": "1",
         "type": "scatter",
         "x": [
          -0.7578418495017754,
          -0.6700990107447939,
          null
         ],
         "y": [
          -0.012863361901354451,
          -0.2908072421421648,
          null
         ]
        },
        {
         "hoverinfo": "text",
         "line": {
          "color": "#888",
          "width": 1
         },
         "mode": "lines",
         "text": "1",
         "type": "scatter",
         "x": [
          -0.7578418495017754,
          -0.7337199359970452,
          null
         ],
         "y": [
          -0.012863361901354451,
          0.22615604674916875,
          null
         ]
        },
        {
         "hoverinfo": "text",
         "line": {
          "color": "#888",
          "width": 1
         },
         "mode": "lines",
         "text": "1",
         "type": "scatter",
         "x": [
          -0.7578418495017754,
          -0.8758043048901162,
          null
         ],
         "y": [
          -0.012863361901354451,
          -0.23720509868625694,
          null
         ]
        },
        {
         "hoverinfo": "text",
         "line": {
          "color": "#888",
          "width": 1
         },
         "mode": "lines",
         "text": "1",
         "type": "scatter",
         "x": [
          -0.7578418495017754,
          -0.9384550832258233,
          null
         ],
         "y": [
          -0.012863361901354451,
          0.19453213261677274,
          null
         ]
        },
        {
         "hoverinfo": "text",
         "line": {
          "color": "#888",
          "width": 2
         },
         "mode": "lines",
         "text": "2",
         "type": "scatter",
         "x": [
          -0.367034523520304,
          0.020978478129541973,
          null
         ],
         "y": [
          0.37609710988691913,
          -0.016998163207901713,
          null
         ]
        },
        {
         "hoverinfo": "text",
         "line": {
          "color": "#888",
          "width": 1
         },
         "mode": "lines",
         "text": "1",
         "type": "scatter",
         "x": [
          -0.367034523520304,
          0.1191529862413622,
          null
         ],
         "y": [
          0.37609710988691913,
          0.9927423832453954,
          null
         ]
        },
        {
         "hoverinfo": "text",
         "line": {
          "color": "#888",
          "width": 1
         },
         "mode": "lines",
         "text": "1",
         "type": "scatter",
         "x": [
          -0.367034523520304,
          -0.23743972392406887,
          null
         ],
         "y": [
          0.37609710988691913,
          0.7507402255328963,
          null
         ]
        },
        {
         "hoverinfo": "text",
         "line": {
          "color": "#888",
          "width": 1
         },
         "mode": "lines",
         "text": "1",
         "type": "scatter",
         "x": [
          -0.367034523520304,
          -0.21937084345632354,
          null
         ],
         "y": [
          0.37609710988691913,
          0.9686287518337108,
          null
         ]
        },
        {
         "hoverinfo": "text",
         "line": {
          "color": "#888",
          "width": 1
         },
         "mode": "lines",
         "text": "1",
         "type": "scatter",
         "x": [
          -0.367034523520304,
          0.23872961784406302,
          null
         ],
         "y": [
          0.37609710988691913,
          0.8188980597773848,
          null
         ]
        },
        {
         "hoverinfo": "text",
         "line": {
          "color": "#888",
          "width": 1
         },
         "mode": "lines",
         "text": "1",
         "type": "scatter",
         "x": [
          -0.367034523520304,
          0.0011337824662420062,
          null
         ],
         "y": [
          0.37609710988691913,
          0.6220392310090621,
          null
         ]
        },
        {
         "hoverinfo": "text",
         "line": {
          "color": "#888",
          "width": 1
         },
         "mode": "lines",
         "text": "1",
         "type": "scatter",
         "x": [
          -0.367034523520304,
          0.23710833660442254,
          null
         ],
         "y": [
          0.37609710988691913,
          0.6196694990765739,
          null
         ]
        },
        {
         "hoverinfo": "text",
         "line": {
          "color": "#888",
          "width": 1
         },
         "mode": "lines",
         "text": "1",
         "type": "scatter",
         "x": [
          -0.367034523520304,
          -0.035433082853396546,
          null
         ],
         "y": [
          0.37609710988691913,
          0.8786987560662569,
          null
         ]
        },
        {
         "hoverinfo": "text",
         "line": {
          "color": "#888",
          "width": 1
         },
         "mode": "lines",
         "text": "1",
         "type": "scatter",
         "x": [
          -0.367034523520304,
          -1,
          null
         ],
         "y": [
          0.37609710988691913,
          -0.03426229098514391,
          null
         ]
        },
        {
         "hoverinfo": "text",
         "line": {
          "color": "#888",
          "width": 1
         },
         "mode": "lines",
         "text": "1",
         "type": "scatter",
         "x": [
          -0.367034523520304,
          -0.5534681826995415,
          null
         ],
         "y": [
          0.37609710988691913,
          -0.08012555895409858,
          null
         ]
        },
        {
         "hoverinfo": "text",
         "line": {
          "color": "#888",
          "width": 1
         },
         "mode": "lines",
         "text": "1",
         "type": "scatter",
         "x": [
          -0.367034523520304,
          -0.6700990107447939,
          null
         ],
         "y": [
          0.37609710988691913,
          -0.2908072421421648,
          null
         ]
        },
        {
         "hoverinfo": "text",
         "line": {
          "color": "#888",
          "width": 1
         },
         "mode": "lines",
         "text": "1",
         "type": "scatter",
         "x": [
          -0.367034523520304,
          -0.7337199359970452,
          null
         ],
         "y": [
          0.37609710988691913,
          0.22615604674916875,
          null
         ]
        },
        {
         "hoverinfo": "text",
         "line": {
          "color": "#888",
          "width": 1
         },
         "mode": "lines",
         "text": "1",
         "type": "scatter",
         "x": [
          -0.367034523520304,
          -0.8758043048901162,
          null
         ],
         "y": [
          0.37609710988691913,
          -0.23720509868625694,
          null
         ]
        },
        {
         "hoverinfo": "text",
         "line": {
          "color": "#888",
          "width": 1
         },
         "mode": "lines",
         "text": "1",
         "type": "scatter",
         "x": [
          -0.367034523520304,
          -0.9384550832258233,
          null
         ],
         "y": [
          0.37609710988691913,
          0.19453213261677274,
          null
         ]
        },
        {
         "hoverinfo": "text",
         "line": {
          "color": "#888",
          "width": 1
         },
         "mode": "lines",
         "text": "1",
         "type": "scatter",
         "x": [
          0.6806425577131024,
          0.020978478129541973,
          null
         ],
         "y": [
          -0.6507053213438142,
          -0.016998163207901713,
          null
         ]
        },
        {
         "hoverinfo": "text",
         "line": {
          "color": "#888",
          "width": 1
         },
         "mode": "lines",
         "text": "1",
         "type": "scatter",
         "x": [
          0.6806425577131024,
          0.543998985662883,
          null
         ],
         "y": [
          -0.6507053213438142,
          -0.4670176324511861,
          null
         ]
        },
        {
         "hoverinfo": "text",
         "line": {
          "color": "#888",
          "width": 1
         },
         "mode": "lines",
         "text": "1",
         "type": "scatter",
         "x": [
          0.6806425577131024,
          0.36941371845244286,
          null
         ],
         "y": [
          -0.6507053213438142,
          -0.8117594378390625,
          null
         ]
        },
        {
         "hoverinfo": "text",
         "line": {
          "color": "#888",
          "width": 1
         },
         "mode": "lines",
         "text": "1",
         "type": "scatter",
         "x": [
          0.6806425577131024,
          0.5444821663232401,
          null
         ],
         "y": [
          -0.6507053213438142,
          -0.8807587490030047,
          null
         ]
        },
        {
         "hoverinfo": "text",
         "line": {
          "color": "#888",
          "width": 1
         },
         "mode": "lines",
         "text": "1",
         "type": "scatter",
         "x": [
          0.6806425577131024,
          0.7455679271707563,
          null
         ],
         "y": [
          -0.6507053213438142,
          -0.8715943472227545,
          null
         ]
        },
        {
         "hoverinfo": "text",
         "line": {
          "color": "#888",
          "width": 1
         },
         "mode": "lines",
         "text": "1",
         "type": "scatter",
         "x": [
          0.6806425577131024,
          0.8867876619302633,
          null
         ],
         "y": [
          -0.6507053213438142,
          -0.4603523239472111,
          null
         ]
        },
        {
         "hoverinfo": "text",
         "line": {
          "color": "#888",
          "width": 1
         },
         "mode": "lines",
         "text": "1",
         "type": "scatter",
         "x": [
          0.6806425577131024,
          0.8963497016713379,
          null
         ],
         "y": [
          -0.6507053213438142,
          -0.6760655033222939,
          null
         ]
        },
        {
         "hoverinfo": "text",
         "line": {
          "color": "#888",
          "width": 1
         },
         "mode": "lines",
         "text": "1",
         "type": "scatter",
         "x": [
          0.6806425577131024,
          0.7171622196643527,
          null
         ],
         "y": [
          -0.6507053213438142,
          -0.3510688276535336,
          null
         ]
        },
        {
         "hoverinfo": "text",
         "line": {
          "color": "#888",
          "width": 1
         },
         "mode": "lines",
         "text": "1",
         "type": "scatter",
         "x": [
          0.5444821663232401,
          0.020978478129541973,
          null
         ],
         "y": [
          -0.8807587490030047,
          -0.016998163207901713,
          null
         ]
        },
        {
         "hoverinfo": "text",
         "line": {
          "color": "#888",
          "width": 1
         },
         "mode": "lines",
         "text": "1",
         "type": "scatter",
         "x": [
          0.5444821663232401,
          0.543998985662883,
          null
         ],
         "y": [
          -0.8807587490030047,
          -0.4670176324511861,
          null
         ]
        },
        {
         "hoverinfo": "text",
         "line": {
          "color": "#888",
          "width": 1
         },
         "mode": "lines",
         "text": "1",
         "type": "scatter",
         "x": [
          0.5444821663232401,
          0.36941371845244286,
          null
         ],
         "y": [
          -0.8807587490030047,
          -0.8117594378390625,
          null
         ]
        },
        {
         "hoverinfo": "text",
         "line": {
          "color": "#888",
          "width": 1
         },
         "mode": "lines",
         "text": "1",
         "type": "scatter",
         "x": [
          0.5444821663232401,
          0.7455679271707563,
          null
         ],
         "y": [
          -0.8807587490030047,
          -0.8715943472227545,
          null
         ]
        },
        {
         "hoverinfo": "text",
         "line": {
          "color": "#888",
          "width": 1
         },
         "mode": "lines",
         "text": "1",
         "type": "scatter",
         "x": [
          0.5444821663232401,
          0.8867876619302633,
          null
         ],
         "y": [
          -0.8807587490030047,
          -0.4603523239472111,
          null
         ]
        },
        {
         "hoverinfo": "text",
         "line": {
          "color": "#888",
          "width": 1
         },
         "mode": "lines",
         "text": "1",
         "type": "scatter",
         "x": [
          0.5444821663232401,
          0.8963497016713379,
          null
         ],
         "y": [
          -0.8807587490030047,
          -0.6760655033222939,
          null
         ]
        },
        {
         "hoverinfo": "text",
         "line": {
          "color": "#888",
          "width": 1
         },
         "mode": "lines",
         "text": "1",
         "type": "scatter",
         "x": [
          0.5444821663232401,
          0.7171622196643527,
          null
         ],
         "y": [
          -0.8807587490030047,
          -0.3510688276535336,
          null
         ]
        },
        {
         "hoverinfo": "text",
         "line": {
          "color": "#888",
          "width": 1
         },
         "mode": "lines",
         "text": "1",
         "type": "scatter",
         "x": [
          0.8963497016713379,
          0.020978478129541973,
          null
         ],
         "y": [
          -0.6760655033222939,
          -0.016998163207901713,
          null
         ]
        },
        {
         "hoverinfo": "text",
         "line": {
          "color": "#888",
          "width": 1
         },
         "mode": "lines",
         "text": "1",
         "type": "scatter",
         "x": [
          0.8963497016713379,
          0.543998985662883,
          null
         ],
         "y": [
          -0.6760655033222939,
          -0.4670176324511861,
          null
         ]
        },
        {
         "hoverinfo": "text",
         "line": {
          "color": "#888",
          "width": 1
         },
         "mode": "lines",
         "text": "1",
         "type": "scatter",
         "x": [
          0.8963497016713379,
          0.36941371845244286,
          null
         ],
         "y": [
          -0.6760655033222939,
          -0.8117594378390625,
          null
         ]
        },
        {
         "hoverinfo": "text",
         "line": {
          "color": "#888",
          "width": 1
         },
         "mode": "lines",
         "text": "1",
         "type": "scatter",
         "x": [
          0.8963497016713379,
          0.7455679271707563,
          null
         ],
         "y": [
          -0.6760655033222939,
          -0.8715943472227545,
          null
         ]
        },
        {
         "hoverinfo": "text",
         "line": {
          "color": "#888",
          "width": 1
         },
         "mode": "lines",
         "text": "1",
         "type": "scatter",
         "x": [
          0.8963497016713379,
          0.8867876619302633,
          null
         ],
         "y": [
          -0.6760655033222939,
          -0.4603523239472111,
          null
         ]
        },
        {
         "hoverinfo": "text",
         "line": {
          "color": "#888",
          "width": 1
         },
         "mode": "lines",
         "text": "1",
         "type": "scatter",
         "x": [
          0.8963497016713379,
          0.7171622196643527,
          null
         ],
         "y": [
          -0.6760655033222939,
          -0.3510688276535336,
          null
         ]
        },
        {
         "hoverinfo": "text",
         "line": {
          "color": "#888",
          "width": 1
         },
         "mode": "lines",
         "text": "1",
         "type": "scatter",
         "x": [
          -0.21937084345632354,
          0.020978478129541973,
          null
         ],
         "y": [
          0.9686287518337108,
          -0.016998163207901713,
          null
         ]
        },
        {
         "hoverinfo": "text",
         "line": {
          "color": "#888",
          "width": 1
         },
         "mode": "lines",
         "text": "1",
         "type": "scatter",
         "x": [
          -0.21937084345632354,
          0.1191529862413622,
          null
         ],
         "y": [
          0.9686287518337108,
          0.9927423832453954,
          null
         ]
        },
        {
         "hoverinfo": "text",
         "line": {
          "color": "#888",
          "width": 1
         },
         "mode": "lines",
         "text": "1",
         "type": "scatter",
         "x": [
          -0.21937084345632354,
          -0.23743972392406887,
          null
         ],
         "y": [
          0.9686287518337108,
          0.7507402255328963,
          null
         ]
        },
        {
         "hoverinfo": "text",
         "line": {
          "color": "#888",
          "width": 1
         },
         "mode": "lines",
         "text": "1",
         "type": "scatter",
         "x": [
          -0.21937084345632354,
          0.23872961784406302,
          null
         ],
         "y": [
          0.9686287518337108,
          0.8188980597773848,
          null
         ]
        },
        {
         "hoverinfo": "text",
         "line": {
          "color": "#888",
          "width": 1
         },
         "mode": "lines",
         "text": "1",
         "type": "scatter",
         "x": [
          -0.21937084345632354,
          0.0011337824662420062,
          null
         ],
         "y": [
          0.9686287518337108,
          0.6220392310090621,
          null
         ]
        },
        {
         "hoverinfo": "text",
         "line": {
          "color": "#888",
          "width": 1
         },
         "mode": "lines",
         "text": "1",
         "type": "scatter",
         "x": [
          -0.21937084345632354,
          0.23710833660442254,
          null
         ],
         "y": [
          0.9686287518337108,
          0.6196694990765739,
          null
         ]
        },
        {
         "hoverinfo": "text",
         "line": {
          "color": "#888",
          "width": 1
         },
         "mode": "lines",
         "text": "1",
         "type": "scatter",
         "x": [
          -0.21937084345632354,
          -0.035433082853396546,
          null
         ],
         "y": [
          0.9686287518337108,
          0.8786987560662569,
          null
         ]
        },
        {
         "hoverinfo": "text",
         "line": {
          "color": "#888",
          "width": 1
         },
         "mode": "lines",
         "text": "1",
         "type": "scatter",
         "x": [
          -1,
          0.020978478129541973,
          null
         ],
         "y": [
          -0.03426229098514391,
          -0.016998163207901713,
          null
         ]
        },
        {
         "hoverinfo": "text",
         "line": {
          "color": "#888",
          "width": 1
         },
         "mode": "lines",
         "text": "1",
         "type": "scatter",
         "x": [
          -1,
          -0.5534681826995415,
          null
         ],
         "y": [
          -0.03426229098514391,
          -0.08012555895409858,
          null
         ]
        },
        {
         "hoverinfo": "text",
         "line": {
          "color": "#888",
          "width": 1
         },
         "mode": "lines",
         "text": "1",
         "type": "scatter",
         "x": [
          -1,
          -0.6700990107447939,
          null
         ],
         "y": [
          -0.03426229098514391,
          -0.2908072421421648,
          null
         ]
        },
        {
         "hoverinfo": "text",
         "line": {
          "color": "#888",
          "width": 1
         },
         "mode": "lines",
         "text": "1",
         "type": "scatter",
         "x": [
          -1,
          -0.7337199359970452,
          null
         ],
         "y": [
          -0.03426229098514391,
          0.22615604674916875,
          null
         ]
        },
        {
         "hoverinfo": "text",
         "line": {
          "color": "#888",
          "width": 1
         },
         "mode": "lines",
         "text": "1",
         "type": "scatter",
         "x": [
          -1,
          -0.8758043048901162,
          null
         ],
         "y": [
          -0.03426229098514391,
          -0.23720509868625694,
          null
         ]
        },
        {
         "hoverinfo": "text",
         "line": {
          "color": "#888",
          "width": 1
         },
         "mode": "lines",
         "text": "1",
         "type": "scatter",
         "x": [
          -1,
          -0.9384550832258233,
          null
         ],
         "y": [
          -0.03426229098514391,
          0.19453213261677274,
          null
         ]
        },
        {
         "hoverinfo": "text",
         "line": {
          "color": "#888",
          "width": 1
         },
         "mode": "lines",
         "text": "1",
         "type": "scatter",
         "x": [
          0.23872961784406302,
          0.020978478129541973,
          null
         ],
         "y": [
          0.8188980597773848,
          -0.016998163207901713,
          null
         ]
        },
        {
         "hoverinfo": "text",
         "line": {
          "color": "#888",
          "width": 1
         },
         "mode": "lines",
         "text": "1",
         "type": "scatter",
         "x": [
          0.23872961784406302,
          0.1191529862413622,
          null
         ],
         "y": [
          0.8188980597773848,
          0.9927423832453954,
          null
         ]
        },
        {
         "hoverinfo": "text",
         "line": {
          "color": "#888",
          "width": 1
         },
         "mode": "lines",
         "text": "1",
         "type": "scatter",
         "x": [
          0.23872961784406302,
          -0.23743972392406887,
          null
         ],
         "y": [
          0.8188980597773848,
          0.7507402255328963,
          null
         ]
        },
        {
         "hoverinfo": "text",
         "line": {
          "color": "#888",
          "width": 1
         },
         "mode": "lines",
         "text": "1",
         "type": "scatter",
         "x": [
          0.23872961784406302,
          0.0011337824662420062,
          null
         ],
         "y": [
          0.8188980597773848,
          0.6220392310090621,
          null
         ]
        },
        {
         "hoverinfo": "text",
         "line": {
          "color": "#888",
          "width": 1
         },
         "mode": "lines",
         "text": "1",
         "type": "scatter",
         "x": [
          0.23872961784406302,
          0.23710833660442254,
          null
         ],
         "y": [
          0.8188980597773848,
          0.6196694990765739,
          null
         ]
        },
        {
         "hoverinfo": "text",
         "line": {
          "color": "#888",
          "width": 1
         },
         "mode": "lines",
         "text": "1",
         "type": "scatter",
         "x": [
          0.23872961784406302,
          -0.035433082853396546,
          null
         ],
         "y": [
          0.8188980597773848,
          0.8786987560662569,
          null
         ]
        },
        {
         "hoverinfo": "text",
         "line": {
          "color": "#888",
          "width": 1
         },
         "mode": "lines",
         "text": "1",
         "type": "scatter",
         "x": [
          -0.5534681826995415,
          0.020978478129541973,
          null
         ],
         "y": [
          -0.08012555895409858,
          -0.016998163207901713,
          null
         ]
        },
        {
         "hoverinfo": "text",
         "line": {
          "color": "#888",
          "width": 1
         },
         "mode": "lines",
         "text": "1",
         "type": "scatter",
         "x": [
          -0.5534681826995415,
          -0.6700990107447939,
          null
         ],
         "y": [
          -0.08012555895409858,
          -0.2908072421421648,
          null
         ]
        },
        {
         "hoverinfo": "text",
         "line": {
          "color": "#888",
          "width": 1
         },
         "mode": "lines",
         "text": "1",
         "type": "scatter",
         "x": [
          -0.5534681826995415,
          -0.7337199359970452,
          null
         ],
         "y": [
          -0.08012555895409858,
          0.22615604674916875,
          null
         ]
        },
        {
         "hoverinfo": "text",
         "line": {
          "color": "#888",
          "width": 1
         },
         "mode": "lines",
         "text": "1",
         "type": "scatter",
         "x": [
          -0.5534681826995415,
          -0.8758043048901162,
          null
         ],
         "y": [
          -0.08012555895409858,
          -0.23720509868625694,
          null
         ]
        },
        {
         "hoverinfo": "text",
         "line": {
          "color": "#888",
          "width": 1
         },
         "mode": "lines",
         "text": "1",
         "type": "scatter",
         "x": [
          -0.5534681826995415,
          -0.9384550832258233,
          null
         ],
         "y": [
          -0.08012555895409858,
          0.19453213261677274,
          null
         ]
        },
        {
         "hoverinfo": "text",
         "line": {
          "color": "#888",
          "width": 1
         },
         "mode": "lines",
         "text": "1",
         "type": "scatter",
         "x": [
          -0.7337199359970452,
          0.020978478129541973,
          null
         ],
         "y": [
          0.22615604674916875,
          -0.016998163207901713,
          null
         ]
        },
        {
         "hoverinfo": "text",
         "line": {
          "color": "#888",
          "width": 1
         },
         "mode": "lines",
         "text": "1",
         "type": "scatter",
         "x": [
          -0.7337199359970452,
          -0.6700990107447939,
          null
         ],
         "y": [
          0.22615604674916875,
          -0.2908072421421648,
          null
         ]
        },
        {
         "hoverinfo": "text",
         "line": {
          "color": "#888",
          "width": 1
         },
         "mode": "lines",
         "text": "1",
         "type": "scatter",
         "x": [
          -0.7337199359970452,
          -0.8758043048901162,
          null
         ],
         "y": [
          0.22615604674916875,
          -0.23720509868625694,
          null
         ]
        },
        {
         "hoverinfo": "text",
         "line": {
          "color": "#888",
          "width": 1
         },
         "mode": "lines",
         "text": "1",
         "type": "scatter",
         "x": [
          -0.7337199359970452,
          -0.9384550832258233,
          null
         ],
         "y": [
          0.22615604674916875,
          0.19453213261677274,
          null
         ]
        },
        {
         "hoverinfo": "text",
         "line": {
          "color": "#888",
          "width": 1
         },
         "mode": "lines",
         "text": "1",
         "type": "scatter",
         "x": [
          0.8867876619302633,
          0.020978478129541973,
          null
         ],
         "y": [
          -0.4603523239472111,
          -0.016998163207901713,
          null
         ]
        },
        {
         "hoverinfo": "text",
         "line": {
          "color": "#888",
          "width": 1
         },
         "mode": "lines",
         "text": "1",
         "type": "scatter",
         "x": [
          0.8867876619302633,
          0.543998985662883,
          null
         ],
         "y": [
          -0.4603523239472111,
          -0.4670176324511861,
          null
         ]
        },
        {
         "hoverinfo": "text",
         "line": {
          "color": "#888",
          "width": 1
         },
         "mode": "lines",
         "text": "1",
         "type": "scatter",
         "x": [
          0.8867876619302633,
          0.36941371845244286,
          null
         ],
         "y": [
          -0.4603523239472111,
          -0.8117594378390625,
          null
         ]
        },
        {
         "hoverinfo": "text",
         "line": {
          "color": "#888",
          "width": 1
         },
         "mode": "lines",
         "text": "1",
         "type": "scatter",
         "x": [
          0.8867876619302633,
          0.7455679271707563,
          null
         ],
         "y": [
          -0.4603523239472111,
          -0.8715943472227545,
          null
         ]
        },
        {
         "hoverinfo": "text",
         "line": {
          "color": "#888",
          "width": 1
         },
         "mode": "lines",
         "text": "1",
         "type": "scatter",
         "x": [
          0.8867876619302633,
          0.7171622196643527,
          null
         ],
         "y": [
          -0.4603523239472111,
          -0.3510688276535336,
          null
         ]
        },
        {
         "hoverinfo": "text",
         "line": {
          "color": "#888",
          "width": 1
         },
         "mode": "lines",
         "text": "1",
         "type": "scatter",
         "x": [
          0.0011337824662420062,
          0.020978478129541973,
          null
         ],
         "y": [
          0.6220392310090621,
          -0.016998163207901713,
          null
         ]
        },
        {
         "hoverinfo": "text",
         "line": {
          "color": "#888",
          "width": 1
         },
         "mode": "lines",
         "text": "1",
         "type": "scatter",
         "x": [
          0.0011337824662420062,
          0.1191529862413622,
          null
         ],
         "y": [
          0.6220392310090621,
          0.9927423832453954,
          null
         ]
        },
        {
         "hoverinfo": "text",
         "line": {
          "color": "#888",
          "width": 1
         },
         "mode": "lines",
         "text": "1",
         "type": "scatter",
         "x": [
          0.0011337824662420062,
          -0.23743972392406887,
          null
         ],
         "y": [
          0.6220392310090621,
          0.7507402255328963,
          null
         ]
        },
        {
         "hoverinfo": "text",
         "line": {
          "color": "#888",
          "width": 1
         },
         "mode": "lines",
         "text": "1",
         "type": "scatter",
         "x": [
          0.0011337824662420062,
          0.23710833660442254,
          null
         ],
         "y": [
          0.6220392310090621,
          0.6196694990765739,
          null
         ]
        },
        {
         "hoverinfo": "text",
         "line": {
          "color": "#888",
          "width": 1
         },
         "mode": "lines",
         "text": "1",
         "type": "scatter",
         "x": [
          0.0011337824662420062,
          -0.035433082853396546,
          null
         ],
         "y": [
          0.6220392310090621,
          0.8786987560662569,
          null
         ]
        },
        {
         "hoverinfo": "text",
         "line": {
          "color": "#888",
          "width": 1
         },
         "mode": "lines",
         "text": "1",
         "type": "scatter",
         "x": [
          0.7171622196643527,
          0.020978478129541973,
          null
         ],
         "y": [
          -0.3510688276535336,
          -0.016998163207901713,
          null
         ]
        },
        {
         "hoverinfo": "text",
         "line": {
          "color": "#888",
          "width": 1
         },
         "mode": "lines",
         "text": "1",
         "type": "scatter",
         "x": [
          0.7171622196643527,
          0.543998985662883,
          null
         ],
         "y": [
          -0.3510688276535336,
          -0.4670176324511861,
          null
         ]
        },
        {
         "hoverinfo": "text",
         "line": {
          "color": "#888",
          "width": 1
         },
         "mode": "lines",
         "text": "1",
         "type": "scatter",
         "x": [
          0.7171622196643527,
          0.36941371845244286,
          null
         ],
         "y": [
          -0.3510688276535336,
          -0.8117594378390625,
          null
         ]
        },
        {
         "hoverinfo": "text",
         "line": {
          "color": "#888",
          "width": 1
         },
         "mode": "lines",
         "text": "1",
         "type": "scatter",
         "x": [
          0.7171622196643527,
          0.7455679271707563,
          null
         ],
         "y": [
          -0.3510688276535336,
          -0.8715943472227545,
          null
         ]
        },
        {
         "hoverinfo": "text",
         "line": {
          "color": "#888",
          "width": 1
         },
         "mode": "lines",
         "text": "1",
         "type": "scatter",
         "x": [
          0.36941371845244286,
          0.020978478129541973,
          null
         ],
         "y": [
          -0.8117594378390625,
          -0.016998163207901713,
          null
         ]
        },
        {
         "hoverinfo": "text",
         "line": {
          "color": "#888",
          "width": 1
         },
         "mode": "lines",
         "text": "1",
         "type": "scatter",
         "x": [
          0.36941371845244286,
          0.543998985662883,
          null
         ],
         "y": [
          -0.8117594378390625,
          -0.4670176324511861,
          null
         ]
        },
        {
         "hoverinfo": "text",
         "line": {
          "color": "#888",
          "width": 1
         },
         "mode": "lines",
         "text": "1",
         "type": "scatter",
         "x": [
          0.36941371845244286,
          0.7455679271707563,
          null
         ],
         "y": [
          -0.8117594378390625,
          -0.8715943472227545,
          null
         ]
        },
        {
         "hoverinfo": "text",
         "line": {
          "color": "#888",
          "width": 1
         },
         "mode": "lines",
         "text": "1",
         "type": "scatter",
         "x": [
          0.7455679271707563,
          0.020978478129541973,
          null
         ],
         "y": [
          -0.8715943472227545,
          -0.016998163207901713,
          null
         ]
        },
        {
         "hoverinfo": "text",
         "line": {
          "color": "#888",
          "width": 1
         },
         "mode": "lines",
         "text": "1",
         "type": "scatter",
         "x": [
          0.7455679271707563,
          0.543998985662883,
          null
         ],
         "y": [
          -0.8715943472227545,
          -0.4670176324511861,
          null
         ]
        },
        {
         "hoverinfo": "text",
         "line": {
          "color": "#888",
          "width": 1
         },
         "mode": "lines",
         "text": "1",
         "type": "scatter",
         "x": [
          0.23710833660442254,
          0.020978478129541973,
          null
         ],
         "y": [
          0.6196694990765739,
          -0.016998163207901713,
          null
         ]
        },
        {
         "hoverinfo": "text",
         "line": {
          "color": "#888",
          "width": 1
         },
         "mode": "lines",
         "text": "1",
         "type": "scatter",
         "x": [
          0.23710833660442254,
          0.1191529862413622,
          null
         ],
         "y": [
          0.6196694990765739,
          0.9927423832453954,
          null
         ]
        },
        {
         "hoverinfo": "text",
         "line": {
          "color": "#888",
          "width": 1
         },
         "mode": "lines",
         "text": "1",
         "type": "scatter",
         "x": [
          0.23710833660442254,
          -0.23743972392406887,
          null
         ],
         "y": [
          0.6196694990765739,
          0.7507402255328963,
          null
         ]
        },
        {
         "hoverinfo": "text",
         "line": {
          "color": "#888",
          "width": 1
         },
         "mode": "lines",
         "text": "1",
         "type": "scatter",
         "x": [
          0.23710833660442254,
          -0.035433082853396546,
          null
         ],
         "y": [
          0.6196694990765739,
          0.8786987560662569,
          null
         ]
        },
        {
         "hoverinfo": "text",
         "line": {
          "color": "#888",
          "width": 1
         },
         "mode": "lines",
         "text": "1",
         "type": "scatter",
         "x": [
          -0.6700990107447939,
          0.020978478129541973,
          null
         ],
         "y": [
          -0.2908072421421648,
          -0.016998163207901713,
          null
         ]
        },
        {
         "hoverinfo": "text",
         "line": {
          "color": "#888",
          "width": 1
         },
         "mode": "lines",
         "text": "1",
         "type": "scatter",
         "x": [
          -0.6700990107447939,
          -0.8758043048901162,
          null
         ],
         "y": [
          -0.2908072421421648,
          -0.23720509868625694,
          null
         ]
        },
        {
         "hoverinfo": "text",
         "line": {
          "color": "#888",
          "width": 1
         },
         "mode": "lines",
         "text": "1",
         "type": "scatter",
         "x": [
          -0.6700990107447939,
          -0.9384550832258233,
          null
         ],
         "y": [
          -0.2908072421421648,
          0.19453213261677274,
          null
         ]
        },
        {
         "hoverinfo": "text",
         "line": {
          "color": "#888",
          "width": 1
         },
         "mode": "lines",
         "text": "1",
         "type": "scatter",
         "x": [
          -0.8758043048901162,
          0.020978478129541973,
          null
         ],
         "y": [
          -0.23720509868625694,
          -0.016998163207901713,
          null
         ]
        },
        {
         "hoverinfo": "text",
         "line": {
          "color": "#888",
          "width": 1
         },
         "mode": "lines",
         "text": "1",
         "type": "scatter",
         "x": [
          -0.8758043048901162,
          -0.9384550832258233,
          null
         ],
         "y": [
          -0.23720509868625694,
          0.19453213261677274,
          null
         ]
        },
        {
         "hoverinfo": "text",
         "line": {
          "color": "#888",
          "width": 1
         },
         "mode": "lines",
         "text": "1",
         "type": "scatter",
         "x": [
          -0.9384550832258233,
          0.020978478129541973,
          null
         ],
         "y": [
          0.19453213261677274,
          -0.016998163207901713,
          null
         ]
        },
        {
         "hoverinfo": "text",
         "line": {
          "color": "#888",
          "width": 1
         },
         "mode": "lines",
         "text": "1",
         "type": "scatter",
         "x": [
          -0.23743972392406887,
          0.020978478129541973,
          null
         ],
         "y": [
          0.7507402255328963,
          -0.016998163207901713,
          null
         ]
        },
        {
         "hoverinfo": "text",
         "line": {
          "color": "#888",
          "width": 1
         },
         "mode": "lines",
         "text": "1",
         "type": "scatter",
         "x": [
          -0.23743972392406887,
          0.1191529862413622,
          null
         ],
         "y": [
          0.7507402255328963,
          0.9927423832453954,
          null
         ]
        },
        {
         "hoverinfo": "text",
         "line": {
          "color": "#888",
          "width": 1
         },
         "mode": "lines",
         "text": "1",
         "type": "scatter",
         "x": [
          -0.23743972392406887,
          -0.035433082853396546,
          null
         ],
         "y": [
          0.7507402255328963,
          0.8786987560662569,
          null
         ]
        },
        {
         "hoverinfo": "text",
         "line": {
          "color": "#888",
          "width": 1
         },
         "mode": "lines",
         "text": "1",
         "type": "scatter",
         "x": [
          0.543998985662883,
          0.020978478129541973,
          null
         ],
         "y": [
          -0.4670176324511861,
          -0.016998163207901713,
          null
         ]
        },
        {
         "hoverinfo": "text",
         "line": {
          "color": "#888",
          "width": 1
         },
         "mode": "lines",
         "text": "1",
         "type": "scatter",
         "x": [
          0.1191529862413622,
          0.020978478129541973,
          null
         ],
         "y": [
          0.9927423832453954,
          -0.016998163207901713,
          null
         ]
        },
        {
         "hoverinfo": "text",
         "line": {
          "color": "#888",
          "width": 1
         },
         "mode": "lines",
         "text": "1",
         "type": "scatter",
         "x": [
          0.1191529862413622,
          -0.035433082853396546,
          null
         ],
         "y": [
          0.9927423832453954,
          0.8786987560662569,
          null
         ]
        },
        {
         "hoverinfo": "text",
         "line": {
          "color": "#888",
          "width": 1
         },
         "mode": "lines",
         "text": "1",
         "type": "scatter",
         "x": [
          0.020978478129541973,
          -0.035433082853396546,
          null
         ],
         "y": [
          -0.016998163207901713,
          0.8786987560662569,
          null
         ]
        },
        {
         "hoverinfo": "text",
         "marker": {
          "color": [
           9,
           8,
           15,
           9,
           9,
           9,
           8,
           8,
           8,
           8,
           8,
           9,
           8,
           9,
           9,
           9,
           8,
           8,
           8,
           8,
           8,
           9,
           8,
           24,
           8
          ],
          "colorbar": {
           "thickness": 15,
           "title": {
            "side": "right",
            "text": "Node Connections"
           },
           "xanchor": "left"
          },
          "colorscale": [
           [
            0,
            "rgb(255,255,217)"
           ],
           [
            0.125,
            "rgb(237,248,177)"
           ],
           [
            0.25,
            "rgb(199,233,180)"
           ],
           [
            0.375,
            "rgb(127,205,187)"
           ],
           [
            0.5,
            "rgb(65,182,196)"
           ],
           [
            0.625,
            "rgb(29,145,192)"
           ],
           [
            0.75,
            "rgb(34,94,168)"
           ],
           [
            0.875,
            "rgb(37,52,148)"
           ],
           [
            1,
            "rgb(8,29,88)"
           ]
          ],
          "line": {
           "width": 2
          },
          "reversescale": true,
          "showscale": true,
          "size": [
           10.799999999999999,
           9.6,
           18,
           10.799999999999999,
           10.799999999999999,
           10.799999999999999,
           9.6,
           9.6,
           9.6,
           9.6,
           9.6,
           10.799999999999999,
           9.6,
           10.799999999999999,
           10.799999999999999,
           10.799999999999999,
           9.6,
           9.6,
           9.6,
           9.6,
           9.6,
           10.799999999999999,
           9.6,
           28.799999999999997,
           9.6
          ]
         },
         "mode": "markers",
         "text": [
          "You Seong-joo has 9 connection(s)",
          "Yoo Ji-tae has 8 connection(s)",
          "Jung Jin-young has 15 connection(s)",
          "Oh Young-soo has 9 connection(s)",
          "Jung Ho-yeon has 9 connection(s)",
          "Tripathi Anupam has 9 connection(s)",
          "Kim Dong-jun has 8 connection(s)",
          "Park Jung-min has 8 connection(s)",
          "Kim Kap-soo has 8 connection(s)",
          "Lee Jae-in has 8 connection(s)",
          "Jin Seon-kyu has 8 connection(s)",
          "Kim Joo-ryoung has 9 connection(s)",
          "Jung Woong-in has 8 connection(s)",
          "Lee You-mi has 9 connection(s)",
          "Wi Ha-jun has 9 connection(s)",
          "Heo Sung-tae has 9 connection(s)",
          "Im Won-hee has 8 connection(s)",
          "Lee Da-wit has 8 connection(s)",
          "Ji Seung-hyeon has 8 connection(s)",
          "Min Tanaka has 8 connection(s)",
          "Lee Elijah has 8 connection(s)",
          "Park Hae-soo has 9 connection(s)",
          "Shin Mina has 8 connection(s)",
          "Lee Jung-jae has 24 connection(s)",
          "Kim Hong-pa has 8 connection(s)"
         ],
         "type": "scatter",
         "x": [
          0.3871584009391772,
          -0.7578418495017754,
          -0.367034523520304,
          0.6806425577131024,
          0.5444821663232401,
          0.8963497016713379,
          -0.21937084345632354,
          -1,
          0.23872961784406302,
          -0.5534681826995415,
          -0.7337199359970452,
          0.8867876619302633,
          0.0011337824662420062,
          0.7171622196643527,
          0.36941371845244286,
          0.7455679271707563,
          0.23710833660442254,
          -0.6700990107447939,
          -0.8758043048901162,
          -0.9384550832258233,
          -0.23743972392406887,
          0.543998985662883,
          0.1191529862413622,
          0.020978478129541973,
          -0.035433082853396546
         ],
         "y": [
          -0.6066183371343581,
          -0.012863361901354451,
          0.37609710988691913,
          -0.6507053213438142,
          -0.8807587490030047,
          -0.6760655033222939,
          0.9686287518337108,
          -0.03426229098514391,
          0.8188980597773848,
          -0.08012555895409858,
          0.22615604674916875,
          -0.4603523239472111,
          0.6220392310090621,
          -0.3510688276535336,
          -0.8117594378390625,
          -0.8715943472227545,
          0.6196694990765739,
          -0.2908072421421648,
          -0.23720509868625694,
          0.19453213261677274,
          0.7507402255328963,
          -0.4670176324511861,
          0.9927423832453954,
          -0.016998163207901713,
          0.8786987560662569
         ]
        },
        {
         "hoverinfo": "text",
         "marker": {
          "color": "red",
          "line": {
           "width": 2
          }
         },
         "mode": "markers",
         "type": "scatter",
         "x": [
          0.020978478129541973
         ],
         "y": [
          -0.016998163207901713
         ]
        }
       ],
       "layout": {
        "hovermode": "closest",
        "margin": {
         "b": 20,
         "l": 5,
         "r": 5,
         "t": 40
        },
        "showlegend": false,
        "template": {
         "data": {
          "bar": [
           {
            "error_x": {
             "color": "#2a3f5f"
            },
            "error_y": {
             "color": "#2a3f5f"
            },
            "marker": {
             "line": {
              "color": "#E5ECF6",
              "width": 0.5
             },
             "pattern": {
              "fillmode": "overlay",
              "size": 10,
              "solidity": 0.2
             }
            },
            "type": "bar"
           }
          ],
          "barpolar": [
           {
            "marker": {
             "line": {
              "color": "#E5ECF6",
              "width": 0.5
             },
             "pattern": {
              "fillmode": "overlay",
              "size": 10,
              "solidity": 0.2
             }
            },
            "type": "barpolar"
           }
          ],
          "carpet": [
           {
            "aaxis": {
             "endlinecolor": "#2a3f5f",
             "gridcolor": "white",
             "linecolor": "white",
             "minorgridcolor": "white",
             "startlinecolor": "#2a3f5f"
            },
            "baxis": {
             "endlinecolor": "#2a3f5f",
             "gridcolor": "white",
             "linecolor": "white",
             "minorgridcolor": "white",
             "startlinecolor": "#2a3f5f"
            },
            "type": "carpet"
           }
          ],
          "choropleth": [
           {
            "colorbar": {
             "outlinewidth": 0,
             "ticks": ""
            },
            "type": "choropleth"
           }
          ],
          "contour": [
           {
            "colorbar": {
             "outlinewidth": 0,
             "ticks": ""
            },
            "colorscale": [
             [
              0,
              "#0d0887"
             ],
             [
              0.1111111111111111,
              "#46039f"
             ],
             [
              0.2222222222222222,
              "#7201a8"
             ],
             [
              0.3333333333333333,
              "#9c179e"
             ],
             [
              0.4444444444444444,
              "#bd3786"
             ],
             [
              0.5555555555555556,
              "#d8576b"
             ],
             [
              0.6666666666666666,
              "#ed7953"
             ],
             [
              0.7777777777777778,
              "#fb9f3a"
             ],
             [
              0.8888888888888888,
              "#fdca26"
             ],
             [
              1,
              "#f0f921"
             ]
            ],
            "type": "contour"
           }
          ],
          "contourcarpet": [
           {
            "colorbar": {
             "outlinewidth": 0,
             "ticks": ""
            },
            "type": "contourcarpet"
           }
          ],
          "heatmap": [
           {
            "colorbar": {
             "outlinewidth": 0,
             "ticks": ""
            },
            "colorscale": [
             [
              0,
              "#0d0887"
             ],
             [
              0.1111111111111111,
              "#46039f"
             ],
             [
              0.2222222222222222,
              "#7201a8"
             ],
             [
              0.3333333333333333,
              "#9c179e"
             ],
             [
              0.4444444444444444,
              "#bd3786"
             ],
             [
              0.5555555555555556,
              "#d8576b"
             ],
             [
              0.6666666666666666,
              "#ed7953"
             ],
             [
              0.7777777777777778,
              "#fb9f3a"
             ],
             [
              0.8888888888888888,
              "#fdca26"
             ],
             [
              1,
              "#f0f921"
             ]
            ],
            "type": "heatmap"
           }
          ],
          "heatmapgl": [
           {
            "colorbar": {
             "outlinewidth": 0,
             "ticks": ""
            },
            "colorscale": [
             [
              0,
              "#0d0887"
             ],
             [
              0.1111111111111111,
              "#46039f"
             ],
             [
              0.2222222222222222,
              "#7201a8"
             ],
             [
              0.3333333333333333,
              "#9c179e"
             ],
             [
              0.4444444444444444,
              "#bd3786"
             ],
             [
              0.5555555555555556,
              "#d8576b"
             ],
             [
              0.6666666666666666,
              "#ed7953"
             ],
             [
              0.7777777777777778,
              "#fb9f3a"
             ],
             [
              0.8888888888888888,
              "#fdca26"
             ],
             [
              1,
              "#f0f921"
             ]
            ],
            "type": "heatmapgl"
           }
          ],
          "histogram": [
           {
            "marker": {
             "pattern": {
              "fillmode": "overlay",
              "size": 10,
              "solidity": 0.2
             }
            },
            "type": "histogram"
           }
          ],
          "histogram2d": [
           {
            "colorbar": {
             "outlinewidth": 0,
             "ticks": ""
            },
            "colorscale": [
             [
              0,
              "#0d0887"
             ],
             [
              0.1111111111111111,
              "#46039f"
             ],
             [
              0.2222222222222222,
              "#7201a8"
             ],
             [
              0.3333333333333333,
              "#9c179e"
             ],
             [
              0.4444444444444444,
              "#bd3786"
             ],
             [
              0.5555555555555556,
              "#d8576b"
             ],
             [
              0.6666666666666666,
              "#ed7953"
             ],
             [
              0.7777777777777778,
              "#fb9f3a"
             ],
             [
              0.8888888888888888,
              "#fdca26"
             ],
             [
              1,
              "#f0f921"
             ]
            ],
            "type": "histogram2d"
           }
          ],
          "histogram2dcontour": [
           {
            "colorbar": {
             "outlinewidth": 0,
             "ticks": ""
            },
            "colorscale": [
             [
              0,
              "#0d0887"
             ],
             [
              0.1111111111111111,
              "#46039f"
             ],
             [
              0.2222222222222222,
              "#7201a8"
             ],
             [
              0.3333333333333333,
              "#9c179e"
             ],
             [
              0.4444444444444444,
              "#bd3786"
             ],
             [
              0.5555555555555556,
              "#d8576b"
             ],
             [
              0.6666666666666666,
              "#ed7953"
             ],
             [
              0.7777777777777778,
              "#fb9f3a"
             ],
             [
              0.8888888888888888,
              "#fdca26"
             ],
             [
              1,
              "#f0f921"
             ]
            ],
            "type": "histogram2dcontour"
           }
          ],
          "mesh3d": [
           {
            "colorbar": {
             "outlinewidth": 0,
             "ticks": ""
            },
            "type": "mesh3d"
           }
          ],
          "parcoords": [
           {
            "line": {
             "colorbar": {
              "outlinewidth": 0,
              "ticks": ""
             }
            },
            "type": "parcoords"
           }
          ],
          "pie": [
           {
            "automargin": true,
            "type": "pie"
           }
          ],
          "scatter": [
           {
            "marker": {
             "colorbar": {
              "outlinewidth": 0,
              "ticks": ""
             }
            },
            "type": "scatter"
           }
          ],
          "scatter3d": [
           {
            "line": {
             "colorbar": {
              "outlinewidth": 0,
              "ticks": ""
             }
            },
            "marker": {
             "colorbar": {
              "outlinewidth": 0,
              "ticks": ""
             }
            },
            "type": "scatter3d"
           }
          ],
          "scattercarpet": [
           {
            "marker": {
             "colorbar": {
              "outlinewidth": 0,
              "ticks": ""
             }
            },
            "type": "scattercarpet"
           }
          ],
          "scattergeo": [
           {
            "marker": {
             "colorbar": {
              "outlinewidth": 0,
              "ticks": ""
             }
            },
            "type": "scattergeo"
           }
          ],
          "scattergl": [
           {
            "marker": {
             "colorbar": {
              "outlinewidth": 0,
              "ticks": ""
             }
            },
            "type": "scattergl"
           }
          ],
          "scattermapbox": [
           {
            "marker": {
             "colorbar": {
              "outlinewidth": 0,
              "ticks": ""
             }
            },
            "type": "scattermapbox"
           }
          ],
          "scatterpolar": [
           {
            "marker": {
             "colorbar": {
              "outlinewidth": 0,
              "ticks": ""
             }
            },
            "type": "scatterpolar"
           }
          ],
          "scatterpolargl": [
           {
            "marker": {
             "colorbar": {
              "outlinewidth": 0,
              "ticks": ""
             }
            },
            "type": "scatterpolargl"
           }
          ],
          "scatterternary": [
           {
            "marker": {
             "colorbar": {
              "outlinewidth": 0,
              "ticks": ""
             }
            },
            "type": "scatterternary"
           }
          ],
          "surface": [
           {
            "colorbar": {
             "outlinewidth": 0,
             "ticks": ""
            },
            "colorscale": [
             [
              0,
              "#0d0887"
             ],
             [
              0.1111111111111111,
              "#46039f"
             ],
             [
              0.2222222222222222,
              "#7201a8"
             ],
             [
              0.3333333333333333,
              "#9c179e"
             ],
             [
              0.4444444444444444,
              "#bd3786"
             ],
             [
              0.5555555555555556,
              "#d8576b"
             ],
             [
              0.6666666666666666,
              "#ed7953"
             ],
             [
              0.7777777777777778,
              "#fb9f3a"
             ],
             [
              0.8888888888888888,
              "#fdca26"
             ],
             [
              1,
              "#f0f921"
             ]
            ],
            "type": "surface"
           }
          ],
          "table": [
           {
            "cells": {
             "fill": {
              "color": "#EBF0F8"
             },
             "line": {
              "color": "white"
             }
            },
            "header": {
             "fill": {
              "color": "#C8D4E3"
             },
             "line": {
              "color": "white"
             }
            },
            "type": "table"
           }
          ]
         },
         "layout": {
          "annotationdefaults": {
           "arrowcolor": "#2a3f5f",
           "arrowhead": 0,
           "arrowwidth": 1
          },
          "autotypenumbers": "strict",
          "coloraxis": {
           "colorbar": {
            "outlinewidth": 0,
            "ticks": ""
           }
          },
          "colorscale": {
           "diverging": [
            [
             0,
             "#8e0152"
            ],
            [
             0.1,
             "#c51b7d"
            ],
            [
             0.2,
             "#de77ae"
            ],
            [
             0.3,
             "#f1b6da"
            ],
            [
             0.4,
             "#fde0ef"
            ],
            [
             0.5,
             "#f7f7f7"
            ],
            [
             0.6,
             "#e6f5d0"
            ],
            [
             0.7,
             "#b8e186"
            ],
            [
             0.8,
             "#7fbc41"
            ],
            [
             0.9,
             "#4d9221"
            ],
            [
             1,
             "#276419"
            ]
           ],
           "sequential": [
            [
             0,
             "#0d0887"
            ],
            [
             0.1111111111111111,
             "#46039f"
            ],
            [
             0.2222222222222222,
             "#7201a8"
            ],
            [
             0.3333333333333333,
             "#9c179e"
            ],
            [
             0.4444444444444444,
             "#bd3786"
            ],
            [
             0.5555555555555556,
             "#d8576b"
            ],
            [
             0.6666666666666666,
             "#ed7953"
            ],
            [
             0.7777777777777778,
             "#fb9f3a"
            ],
            [
             0.8888888888888888,
             "#fdca26"
            ],
            [
             1,
             "#f0f921"
            ]
           ],
           "sequentialminus": [
            [
             0,
             "#0d0887"
            ],
            [
             0.1111111111111111,
             "#46039f"
            ],
            [
             0.2222222222222222,
             "#7201a8"
            ],
            [
             0.3333333333333333,
             "#9c179e"
            ],
            [
             0.4444444444444444,
             "#bd3786"
            ],
            [
             0.5555555555555556,
             "#d8576b"
            ],
            [
             0.6666666666666666,
             "#ed7953"
            ],
            [
             0.7777777777777778,
             "#fb9f3a"
            ],
            [
             0.8888888888888888,
             "#fdca26"
            ],
            [
             1,
             "#f0f921"
            ]
           ]
          },
          "colorway": [
           "#636efa",
           "#EF553B",
           "#00cc96",
           "#ab63fa",
           "#FFA15A",
           "#19d3f3",
           "#FF6692",
           "#B6E880",
           "#FF97FF",
           "#FECB52"
          ],
          "font": {
           "color": "#2a3f5f"
          },
          "geo": {
           "bgcolor": "white",
           "lakecolor": "white",
           "landcolor": "#E5ECF6",
           "showlakes": true,
           "showland": true,
           "subunitcolor": "white"
          },
          "hoverlabel": {
           "align": "left"
          },
          "hovermode": "closest",
          "mapbox": {
           "style": "light"
          },
          "paper_bgcolor": "white",
          "plot_bgcolor": "#E5ECF6",
          "polar": {
           "angularaxis": {
            "gridcolor": "white",
            "linecolor": "white",
            "ticks": ""
           },
           "bgcolor": "#E5ECF6",
           "radialaxis": {
            "gridcolor": "white",
            "linecolor": "white",
            "ticks": ""
           }
          },
          "scene": {
           "xaxis": {
            "backgroundcolor": "#E5ECF6",
            "gridcolor": "white",
            "gridwidth": 2,
            "linecolor": "white",
            "showbackground": true,
            "ticks": "",
            "zerolinecolor": "white"
           },
           "yaxis": {
            "backgroundcolor": "#E5ECF6",
            "gridcolor": "white",
            "gridwidth": 2,
            "linecolor": "white",
            "showbackground": true,
            "ticks": "",
            "zerolinecolor": "white"
           },
           "zaxis": {
            "backgroundcolor": "#E5ECF6",
            "gridcolor": "white",
            "gridwidth": 2,
            "linecolor": "white",
            "showbackground": true,
            "ticks": "",
            "zerolinecolor": "white"
           }
          },
          "shapedefaults": {
           "line": {
            "color": "#2a3f5f"
           }
          },
          "ternary": {
           "aaxis": {
            "gridcolor": "white",
            "linecolor": "white",
            "ticks": ""
           },
           "baxis": {
            "gridcolor": "white",
            "linecolor": "white",
            "ticks": ""
           },
           "bgcolor": "#E5ECF6",
           "caxis": {
            "gridcolor": "white",
            "linecolor": "white",
            "ticks": ""
           }
          },
          "title": {
           "x": 0.05
          },
          "xaxis": {
           "automargin": true,
           "gridcolor": "white",
           "linecolor": "white",
           "ticks": "",
           "title": {
            "standoff": 15
           },
           "zerolinecolor": "white",
           "zerolinewidth": 2
          },
          "yaxis": {
           "automargin": true,
           "gridcolor": "white",
           "linecolor": "white",
           "ticks": "",
           "title": {
            "standoff": 15
           },
           "zerolinecolor": "white",
           "zerolinewidth": 2
          }
         }
        },
        "title": {
         "font": {
          "size": 16
         },
         "text": "Lee Jung-jae's Network Graph"
        },
        "xaxis": {
         "showgrid": false,
         "showticklabels": false,
         "zeroline": false
        },
        "yaxis": {
         "showgrid": false,
         "showticklabels": false,
         "zeroline": false
        }
       }
      }
     },
     "metadata": {},
     "output_type": "display_data"
    }
   ],
   "source": [
    "getCastNetwork(cast_G, \"lee jung-jae\")"
   ]
  },
  {
   "cell_type": "code",
   "execution_count": null,
   "metadata": {},
   "outputs": [],
   "source": []
  }
 ],
 "metadata": {
  "interpreter": {
   "hash": "31f2aee4e71d21fbe5cf8b01ff0e069b9275f58929596ceb00d14d90e3e16cd6"
  },
  "kernelspec": {
   "display_name": "Python 3.8.9 64-bit",
   "language": "python",
   "name": "python3"
  },
  "language_info": {
   "codemirror_mode": {
    "name": "ipython",
    "version": 3
   },
   "file_extension": ".py",
   "mimetype": "text/x-python",
   "name": "python",
   "nbconvert_exporter": "python",
   "pygments_lexer": "ipython3",
   "version": "3.9.7"
  },
  "orig_nbformat": 4
 },
 "nbformat": 4,
 "nbformat_minor": 2
}
