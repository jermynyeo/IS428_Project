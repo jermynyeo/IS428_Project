{
 "cells": [
  {
   "cell_type": "code",
   "execution_count": 2,
   "metadata": {},
   "outputs": [],
   "source": [
    "import pandas as pd     \n",
    "from collections import defaultdict \n",
    "import csv\n",
    "IN_DATA_DIR = \"./Data/netflix_titles\"\n",
    "OUT_DATA_DIR = \"./Data/netflix_titles\""
   ]
  },
  {
   "cell_type": "code",
   "execution_count": 10,
   "metadata": {},
   "outputs": [],
   "source": [
    "\n",
    "def convert_csv_NFT(df, col):\n",
    "    values = df[col]\n",
    "    csv_file = f\"{OUT_DATA_DIR}/nft_{col}_show.csv\"\n",
    "\n",
    "    with open(csv_file, 'w') as csvfile:\n",
    "        writer = csv.DictWriter(csvfile, fieldnames= [col, 'show_id'])\n",
    "        writer.writeheader()\n",
    "        for i, val in enumerate(values):\n",
    "            try: \n",
    "                for v in val.split(\", \"): \n",
    "                    writer.writerow({col: v, \"show_id\": df.show_id[i]})\n",
    "            except:\n",
    "                # what to do with null columns? currently will remove these data.\n",
    "                print (end = '')\n",
    "                \n",
    "\n",
    "def convert_csv_MT(df, col):\n",
    "    values = df[col]\n",
    "    csv_file = f\"{OUT_DATA_DIR}/ms_{col}_show.csv\"\n",
    "\n",
    "    with open(csv_file, 'w') as csvfile:\n",
    "        writer = csv.DictWriter(csvfile, fieldnames= [col, 'ID'])\n",
    "        writer.writeheader()\n",
    "        for i, val in enumerate(values):\n",
    "            try: \n",
    "                for v in val.split(\",\"): \n",
    "                    writer.writerow({col: v, \"ID\": df.ID[i]})\n",
    "            except:\n",
    "                # what to do with null columns? currently will remove these data.\n",
    "                print (end = '')\n",
    "                \n",
    "\n"
   ]
  },
  {
   "cell_type": "code",
   "execution_count": 11,
   "metadata": {},
   "outputs": [],
   "source": [
    "def get_cast_network(df):\n",
    "    values = df[\"cast\"]\n",
    "    cast_network = defaultdict(lambda: 0)\n",
    "\n",
    "    csv_file = f\"{OUT_DATA_DIR}/cast_network.csv\"\n",
    "\n",
    "\n",
    "    for val in values:\n",
    "        try: \n",
    "            casts = val.split(\", \")\n",
    "            for i in range(len(casts)):\n",
    "                for j in range(i + 1, len(casts)):\n",
    "                    cast_network[f\"{casts[i]}, {casts[j]}\"] += 1\n",
    "        except:\n",
    "            print (end=\"\")\n",
    "\n",
    "    print (\"CAST NETWORK GENERATED.\")\n",
    "    with open (csv_file, \"w\") as f: \n",
    "        writer = csv.DictWriter(f, fieldnames= [\"cast1\", \"cast2\", \"count\"])\n",
    "        writer.writeheader()\n",
    "        for k in cast_network.keys():\n",
    "            c1, c2 = k.split(\", \")\n",
    "            writer.writerow({\"cast1\": c1, \"cast2\": c2, \"count\": cast_network[k]})\n"
   ]
  },
  {
   "cell_type": "code",
   "execution_count": 6,
   "metadata": {},
   "outputs": [
    {
     "name": "stdout",
     "output_type": "stream",
     "text": [
      "['Lee Jung-jae, Park Hae-soo, Wi Ha-jun, Oh Young-soo, Jung Ho-yeon, Heo Sung-tae, Kim Joo-ryoung, Tripathi Anupam, You Seong-joo, Lee You-mi']\n"
     ]
    }
   ],
   "source": [
    "df = pd.read_csv(f\"{IN_DATA_DIR}/netflix_titles.csv\")\n",
    "df.head()\n",
    "\n",
    "# convert_csv_NFT(df, \"listed_in\")\n",
    "# convert_csv_NFT(df, \"country\")\n",
    "# convert_csv_NFT(df, \"director\")\n",
    "# convert_csv_NFT(df, \"cast\")\n",
    "# get_cast_network(df)\n",
    "\n"
   ]
  },
  {
   "cell_type": "code",
   "execution_count": 30,
   "metadata": {},
   "outputs": [],
   "source": [
    "df = pd.read_csv(f\"{IN_DATA_DIR}/moviestreams.csv\", index_col= 0)\n",
    "data = df[df.Netflix == 1]\n",
    "\n",
    "convert_csv_MT(data, \"Country\")\n",
    "convert_csv_MT(data, \"Language\")\n",
    "convert_csv_MT(data, \"Genres\")\n",
    "convert_csv_MT(data, \"Directors\")\n",
    "\n"
   ]
  },
  {
   "cell_type": "code",
   "execution_count": null,
   "metadata": {},
   "outputs": [],
   "source": []
  }
 ],
 "metadata": {
  "interpreter": {
   "hash": "dd3e321934a89039be24996b5fc6782ee7b909f22b294d7652f2f30f3effe4cb"
  },
  "kernelspec": {
   "display_name": "Python 3.9.7 ('base')",
   "language": "python",
   "name": "python3"
  },
  "language_info": {
   "codemirror_mode": {
    "name": "ipython",
    "version": 3
   },
   "file_extension": ".py",
   "mimetype": "text/x-python",
   "name": "python",
   "nbconvert_exporter": "python",
   "pygments_lexer": "ipython3",
   "version": "3.9.0"
  },
  "orig_nbformat": 4
 },
 "nbformat": 4,
 "nbformat_minor": 2
}
