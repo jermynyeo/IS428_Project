{
 "cells": [
  {
   "cell_type": "markdown",
   "metadata": {},
   "source": [
    "# 1. Import Essential Modules"
   ]
  },
  {
   "cell_type": "code",
   "execution_count": 1,
   "metadata": {},
   "outputs": [],
   "source": [
    "#!pip install yfinance #unhash to install\n",
    "import pandas as pd\n",
    "import numpy as np\n",
    "import matplotlib.pyplot as plt\n",
    "import yfinance as yf\n",
    "\n",
    "from pandas_datareader import data\n",
    "from matplotlib.ticker import FuncFormatter\n",
    "from datetime import datetime,date,timedelta\n",
    "from functools import reduce\n",
    "\n",
    "plt.style.use('fivethirtyeight')\n",
    "np.random.seed(777)\n",
    "\n",
    "%matplotlib inline\n",
    "%config InlineBackend.figure_format = 'retina'\n"
   ]
  },
  {
   "cell_type": "markdown",
   "metadata": {},
   "source": [
    "# 2. Scraping Data from the Web"
   ]
  },
  {
   "cell_type": "code",
   "execution_count": 2,
   "metadata": {},
   "outputs": [],
   "source": [
    "# Scrape data from the Yahoo Finance\n",
    "def getbasic():\n",
    "    ticker =  'NFLX'\n",
    "\n",
    "    start_date = '2016-01-02' \n",
    "    end_date = date. today()\n",
    "\n",
    "    # # Use pandas_reader.data.DataReader to load data\n",
    "    panel_data = data.DataReader (ticker, 'yahoo', start_date, end_date)\n",
    "    ticker_SPY = ['SPY']\n",
    "    panel_data_spy = data.DataReader(ticker_SPY, 'yahoo', start_date, end_date).stack(\"Symbols\")\n",
    "    panel_data_spy['Industry'] = \"SPY-Index\"\n",
    "    panel_data_spy.to_csv('spy-noncrypto-index.csv')\n",
    "\n",
    "    panel_data.to_csv('nflxStock.csv')\n",
    "\n",
    "getbasic()"
   ]
  },
  {
   "cell_type": "markdown",
   "metadata": {},
   "source": [
    "# 3. Generating Additional Columns"
   ]
  },
  {
   "cell_type": "code",
   "execution_count": 3,
   "metadata": {},
   "outputs": [],
   "source": [
    "#Read Files\n",
    "nflx_Stock = pd.read_csv('nflxStock.csv', parse_dates=['Date'], dayfirst=True)\n",
    "spy = pd.read_csv(\"spy-noncrypto-index.csv\",parse_dates=['Date'], dayfirst=True)"
   ]
  },
  {
   "cell_type": "code",
   "execution_count": 4,
   "metadata": {},
   "outputs": [],
   "source": [
    "# Generate Daily Returns (Close), Daily Returns (Adj Close), Log % Change for non-crypto\n",
    "nflx_Stock['Symbols'] = 'NFLX'\n",
    "nflx_Stock['Industry'] = 'Entertainment'\n",
    "data_daily_returns_adjclose = nflx_Stock['Adj Close'].pct_change()\n",
    "nflx_Stock['Daily Return (Adj Close)'] = data_daily_returns_adjclose\n",
    "data_daily_returns_close = nflx_Stock['Close'].pct_change()\n",
    "nflx_Stock['Daily Return (Close)'] = data_daily_returns_close\n",
    "data_per_change = np.log(nflx_Stock['Close']/nflx_Stock['Close'].shift(1))\n",
    "nflx_Stock['Log % Change'] = data_per_change "
   ]
  },
  {
   "cell_type": "code",
   "execution_count": 5,
   "metadata": {},
   "outputs": [],
   "source": [
    "# Generate Daily Returns (Close), Daily Returns (Adj Close), Log % Change for spy\n",
    "data_daily_returns_adjclose = spy['Adj Close'].pct_change()\n",
    "spy['Daily Return (Adj Close)'] = data_daily_returns_adjclose\n",
    "data_daily_returns_close = spy['Close'].pct_change()\n",
    "spy['Daily Return (Close)'] = data_daily_returns_close\n",
    "data_per_change = np.log(spy['Close']/spy['Close'].shift(1))\n",
    "spy['Log % Change'] = data_per_change "
   ]
  },
  {
   "cell_type": "code",
   "execution_count": 6,
   "metadata": {},
   "outputs": [
    {
     "data": {
      "text/html": [
       "<div>\n",
       "<style scoped>\n",
       "    .dataframe tbody tr th:only-of-type {\n",
       "        vertical-align: middle;\n",
       "    }\n",
       "\n",
       "    .dataframe tbody tr th {\n",
       "        vertical-align: top;\n",
       "    }\n",
       "\n",
       "    .dataframe thead th {\n",
       "        text-align: right;\n",
       "    }\n",
       "</style>\n",
       "<table border=\"1\" class=\"dataframe\">\n",
       "  <thead>\n",
       "    <tr style=\"text-align: right;\">\n",
       "      <th></th>\n",
       "      <th>Date</th>\n",
       "      <th>Symbols</th>\n",
       "      <th>Adj Close</th>\n",
       "      <th>Close</th>\n",
       "      <th>High</th>\n",
       "      <th>Low</th>\n",
       "      <th>Open</th>\n",
       "      <th>Volume</th>\n",
       "      <th>Industry</th>\n",
       "      <th>Daily Return (Adj Close)</th>\n",
       "      <th>Daily Return (Close)</th>\n",
       "      <th>Log % Change</th>\n",
       "    </tr>\n",
       "  </thead>\n",
       "  <tbody>\n",
       "    <tr>\n",
       "      <th>0</th>\n",
       "      <td>2016-01-04</td>\n",
       "      <td>NFLX</td>\n",
       "      <td>109.959999</td>\n",
       "      <td>109.959999</td>\n",
       "      <td>110.000000</td>\n",
       "      <td>105.209999</td>\n",
       "      <td>109.000000</td>\n",
       "      <td>20794800</td>\n",
       "      <td>Entertainment</td>\n",
       "      <td>NaN</td>\n",
       "      <td>NaN</td>\n",
       "      <td>NaN</td>\n",
       "    </tr>\n",
       "    <tr>\n",
       "      <th>1</th>\n",
       "      <td>2016-01-05</td>\n",
       "      <td>NFLX</td>\n",
       "      <td>107.660004</td>\n",
       "      <td>107.660004</td>\n",
       "      <td>110.580002</td>\n",
       "      <td>105.849998</td>\n",
       "      <td>110.449997</td>\n",
       "      <td>17664600</td>\n",
       "      <td>Entertainment</td>\n",
       "      <td>-0.020917</td>\n",
       "      <td>-0.020917</td>\n",
       "      <td>-0.021139</td>\n",
       "    </tr>\n",
       "    <tr>\n",
       "      <th>2</th>\n",
       "      <td>2016-01-06</td>\n",
       "      <td>NFLX</td>\n",
       "      <td>117.680000</td>\n",
       "      <td>117.680000</td>\n",
       "      <td>117.910004</td>\n",
       "      <td>104.959999</td>\n",
       "      <td>105.290001</td>\n",
       "      <td>33045700</td>\n",
       "      <td>Entertainment</td>\n",
       "      <td>0.093071</td>\n",
       "      <td>0.093071</td>\n",
       "      <td>0.088991</td>\n",
       "    </tr>\n",
       "    <tr>\n",
       "      <th>3</th>\n",
       "      <td>2016-01-07</td>\n",
       "      <td>NFLX</td>\n",
       "      <td>114.559998</td>\n",
       "      <td>114.559998</td>\n",
       "      <td>122.180000</td>\n",
       "      <td>112.290001</td>\n",
       "      <td>116.360001</td>\n",
       "      <td>33636700</td>\n",
       "      <td>Entertainment</td>\n",
       "      <td>-0.026513</td>\n",
       "      <td>-0.026513</td>\n",
       "      <td>-0.026870</td>\n",
       "    </tr>\n",
       "    <tr>\n",
       "      <th>4</th>\n",
       "      <td>2016-01-08</td>\n",
       "      <td>NFLX</td>\n",
       "      <td>111.389999</td>\n",
       "      <td>111.389999</td>\n",
       "      <td>117.720001</td>\n",
       "      <td>111.099998</td>\n",
       "      <td>116.330002</td>\n",
       "      <td>18067100</td>\n",
       "      <td>Entertainment</td>\n",
       "      <td>-0.027671</td>\n",
       "      <td>-0.027671</td>\n",
       "      <td>-0.028061</td>\n",
       "    </tr>\n",
       "  </tbody>\n",
       "</table>\n",
       "</div>"
      ],
      "text/plain": [
       "        Date Symbols   Adj Close       Close        High         Low  \\\n",
       "0 2016-01-04    NFLX  109.959999  109.959999  110.000000  105.209999   \n",
       "1 2016-01-05    NFLX  107.660004  107.660004  110.580002  105.849998   \n",
       "2 2016-01-06    NFLX  117.680000  117.680000  117.910004  104.959999   \n",
       "3 2016-01-07    NFLX  114.559998  114.559998  122.180000  112.290001   \n",
       "4 2016-01-08    NFLX  111.389999  111.389999  117.720001  111.099998   \n",
       "\n",
       "         Open    Volume       Industry  Daily Return (Adj Close)  \\\n",
       "0  109.000000  20794800  Entertainment                       NaN   \n",
       "1  110.449997  17664600  Entertainment                 -0.020917   \n",
       "2  105.290001  33045700  Entertainment                  0.093071   \n",
       "3  116.360001  33636700  Entertainment                 -0.026513   \n",
       "4  116.330002  18067100  Entertainment                 -0.027671   \n",
       "\n",
       "   Daily Return (Close)  Log % Change  \n",
       "0                   NaN           NaN  \n",
       "1             -0.020917     -0.021139  \n",
       "2              0.093071      0.088991  \n",
       "3             -0.026513     -0.026870  \n",
       "4             -0.027671     -0.028061  "
      ]
     },
     "execution_count": 6,
     "metadata": {},
     "output_type": "execute_result"
    }
   ],
   "source": [
    "newColumnOrder = ['Date','Symbols','Adj Close', 'Close', 'High', 'Low', 'Open', 'Volume', 'Industry', 'Daily Return (Adj Close)', 'Daily Return (Close)',\n",
    "       'Log % Change']\n",
    "\n",
    "nflx_Stock = nflx_Stock.reindex(columns=newColumnOrder)\n",
    "\n",
    "nflx_Stock.head()"
   ]
  },
  {
   "cell_type": "markdown",
   "metadata": {},
   "source": [
    "# 4. Saving new csv files"
   ]
  },
  {
   "cell_type": "code",
   "execution_count": 8,
   "metadata": {},
   "outputs": [],
   "source": [
    "nflx_Stock.to_csv('netflix-stock.csv', index = False)\n",
    "spy.to_csv('spy-index.csv', index = False)"
   ]
  },
  {
   "cell_type": "code",
   "execution_count": null,
   "metadata": {},
   "outputs": [],
   "source": []
  }
 ],
 "metadata": {
  "kernelspec": {
   "display_name": "Python 3",
   "language": "python",
   "name": "python3"
  },
  "language_info": {
   "codemirror_mode": {
    "name": "ipython",
    "version": 3
   },
   "file_extension": ".py",
   "mimetype": "text/x-python",
   "name": "python",
   "nbconvert_exporter": "python",
   "pygments_lexer": "ipython3",
   "version": "3.7.6"
  }
 },
 "nbformat": 4,
 "nbformat_minor": 4
}
