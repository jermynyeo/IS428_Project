{
 "cells": [
  {
   "cell_type": "markdown",
   "metadata": {},
   "source": [
    "# 1. Import Essential Modules"
   ]
  },
  {
   "cell_type": "code",
   "execution_count": 1,
   "metadata": {},
   "outputs": [],
   "source": [
    "#!pip install yfinance #unhash to install\n",
    "import pandas as pd\n",
    "import numpy as np\n",
    "import matplotlib.pyplot as plt\n",
    "import yfinance as yf\n",
    "\n",
    "from pandas_datareader import data\n",
    "from matplotlib.ticker import FuncFormatter\n",
    "from datetime import datetime,date,timedelta\n",
    "from functools import reduce\n",
    "\n",
    "plt.style.use('fivethirtyeight')\n",
    "np.random.seed(777)\n",
    "\n",
    "%matplotlib inline\n",
    "%config InlineBackend.figure_format = 'retina'\n"
   ]
  },
  {
   "cell_type": "markdown",
   "metadata": {},
   "source": [
    "# 2. Scraping Data from the Web"
   ]
  },
  {
   "cell_type": "code",
   "execution_count": 2,
   "metadata": {},
   "outputs": [],
   "source": [
    "# Scrape data from the Yahoo Finance\n",
    "def getbasic():\n",
    "    ticker =  'NFLX'\n",
    "\n",
    "    start_date = '2016-01-02' \n",
    "    end_date = date. today()\n",
    "\n",
    "    # # Use pandas_reader.data.DataReader to load data\n",
    "    panel_data = data.DataReader (ticker, 'yahoo', start_date, end_date)\n",
    "    ticker_SPY = ['SPY']\n",
    "    panel_data_spy = data.DataReader(ticker_SPY, 'yahoo', start_date, end_date).stack(\"Symbols\")\n",
    "    panel_data_spy['Industry'] = \"SPY-Index\"\n",
    "    panel_data_spy.to_csv('spy-noncrypto-index.csv')\n",
    "\n",
    "    panel_data.to_csv('nflxStock.csv')\n",
    "\n",
    "getbasic()"
   ]
  },
  {
   "cell_type": "markdown",
   "metadata": {},
   "source": [
    "# 3. Generating Additional Columns"
   ]
  },
  {
   "cell_type": "code",
   "execution_count": 3,
   "metadata": {},
   "outputs": [],
   "source": [
    "#Read Files\n",
    "nflx_Stock = pd.read_csv('nflxStock.csv', parse_dates=['Date'], dayfirst=True)\n",
    "spy = pd.read_csv(\"spy-noncrypto-index.csv\",parse_dates=['Date'], dayfirst=True)"
   ]
  },
  {
   "cell_type": "code",
   "execution_count": 4,
   "metadata": {},
   "outputs": [],
   "source": [
    "# Generate Daily Returns (Close), Daily Returns (Adj Close), Log % Change for non-crypto\n",
    "nflx_Stock['Symbols'] = 'NFLX'\n",
    "nflx_Stock['Industry'] = 'Entertainment'\n",
    "data_daily_returns_adjclose = nflx_Stock['Adj Close'].pct_change()\n",
    "nflx_Stock['Daily Return (Adj Close)'] = data_daily_returns_adjclose\n",
    "data_daily_returns_close = nflx_Stock['Close'].pct_change()\n",
    "nflx_Stock['Daily Return (Close)'] = data_daily_returns_close\n",
    "data_per_change = np.log(nflx_Stock['Close']/nflx_Stock['Close'].shift(1))\n",
    "nflx_Stock['Log % Change'] = data_per_change "
   ]
  },
  {
   "cell_type": "code",
   "execution_count": 5,
   "metadata": {},
   "outputs": [],
   "source": [
    "# Generate Daily Returns (Close), Daily Returns (Adj Close), Log % Change for spy\n",
    "data_daily_returns_adjclose = spy['Adj Close'].pct_change()\n",
    "spy['Daily Return (Adj Close)'] = data_daily_returns_adjclose\n",
    "data_daily_returns_close = spy['Close'].pct_change()\n",
    "spy['Daily Return (Close)'] = data_daily_returns_close\n",
    "data_per_change = np.log(spy['Close']/spy['Close'].shift(1))\n",
    "spy['Log % Change'] = data_per_change "
   ]
  },
  {
   "cell_type": "code",
   "execution_count": 6,
   "metadata": {},
   "outputs": [
    {
     "data": {
      "text/html": [
       "<div>\n",
       "<style scoped>\n",
       "    .dataframe tbody tr th:only-of-type {\n",
       "        vertical-align: middle;\n",
       "    }\n",
       "\n",
       "    .dataframe tbody tr th {\n",
       "        vertical-align: top;\n",
       "    }\n",
       "\n",
       "    .dataframe thead th {\n",
       "        text-align: right;\n",
       "    }\n",
       "</style>\n",
       "<table border=\"1\" class=\"dataframe\">\n",
       "  <thead>\n",
       "    <tr style=\"text-align: right;\">\n",
       "      <th></th>\n",
       "      <th>Date</th>\n",
       "      <th>Symbols</th>\n",
       "      <th>Adj Close</th>\n",
       "      <th>Close</th>\n",
       "      <th>High</th>\n",
       "      <th>Low</th>\n",
       "      <th>Open</th>\n",
       "      <th>Volume</th>\n",
       "      <th>Industry</th>\n",
       "      <th>Daily Return (Adj Close)</th>\n",
       "      <th>Daily Return (Close)</th>\n",
       "      <th>Log % Change</th>\n",
       "    </tr>\n",
       "  </thead>\n",
       "  <tbody>\n",
       "    <tr>\n",
       "      <th>1573</th>\n",
       "      <td>2022-04-01</td>\n",
       "      <td>NFLX</td>\n",
       "      <td>373.470001</td>\n",
       "      <td>373.470001</td>\n",
       "      <td>380.869995</td>\n",
       "      <td>368.500000</td>\n",
       "      <td>376.799988</td>\n",
       "      <td>4639800</td>\n",
       "      <td>Entertainment</td>\n",
       "      <td>-0.002990</td>\n",
       "      <td>-0.002990</td>\n",
       "      <td>-0.002994</td>\n",
       "    </tr>\n",
       "    <tr>\n",
       "      <th>1574</th>\n",
       "      <td>2022-04-04</td>\n",
       "      <td>NFLX</td>\n",
       "      <td>391.500000</td>\n",
       "      <td>391.500000</td>\n",
       "      <td>396.019989</td>\n",
       "      <td>373.130005</td>\n",
       "      <td>373.549988</td>\n",
       "      <td>7001800</td>\n",
       "      <td>Entertainment</td>\n",
       "      <td>0.048277</td>\n",
       "      <td>0.048277</td>\n",
       "      <td>0.047148</td>\n",
       "    </tr>\n",
       "    <tr>\n",
       "      <th>1575</th>\n",
       "      <td>2022-04-05</td>\n",
       "      <td>NFLX</td>\n",
       "      <td>380.149994</td>\n",
       "      <td>380.149994</td>\n",
       "      <td>390.000000</td>\n",
       "      <td>377.309998</td>\n",
       "      <td>389.299988</td>\n",
       "      <td>4234500</td>\n",
       "      <td>Entertainment</td>\n",
       "      <td>-0.028991</td>\n",
       "      <td>-0.028991</td>\n",
       "      <td>-0.029420</td>\n",
       "    </tr>\n",
       "    <tr>\n",
       "      <th>1576</th>\n",
       "      <td>2022-04-06</td>\n",
       "      <td>NFLX</td>\n",
       "      <td>368.350006</td>\n",
       "      <td>368.350006</td>\n",
       "      <td>376.470001</td>\n",
       "      <td>362.730011</td>\n",
       "      <td>374.149994</td>\n",
       "      <td>4354900</td>\n",
       "      <td>Entertainment</td>\n",
       "      <td>-0.031040</td>\n",
       "      <td>-0.031040</td>\n",
       "      <td>-0.031532</td>\n",
       "    </tr>\n",
       "    <tr>\n",
       "      <th>1577</th>\n",
       "      <td>2022-04-07</td>\n",
       "      <td>NFLX</td>\n",
       "      <td>362.149994</td>\n",
       "      <td>362.149994</td>\n",
       "      <td>368.540009</td>\n",
       "      <td>353.690002</td>\n",
       "      <td>365.000000</td>\n",
       "      <td>4946200</td>\n",
       "      <td>Entertainment</td>\n",
       "      <td>-0.016832</td>\n",
       "      <td>-0.016832</td>\n",
       "      <td>-0.016975</td>\n",
       "    </tr>\n",
       "  </tbody>\n",
       "</table>\n",
       "</div>"
      ],
      "text/plain": [
       "           Date Symbols   Adj Close       Close        High         Low  \\\n",
       "1573 2022-04-01    NFLX  373.470001  373.470001  380.869995  368.500000   \n",
       "1574 2022-04-04    NFLX  391.500000  391.500000  396.019989  373.130005   \n",
       "1575 2022-04-05    NFLX  380.149994  380.149994  390.000000  377.309998   \n",
       "1576 2022-04-06    NFLX  368.350006  368.350006  376.470001  362.730011   \n",
       "1577 2022-04-07    NFLX  362.149994  362.149994  368.540009  353.690002   \n",
       "\n",
       "            Open   Volume       Industry  Daily Return (Adj Close)  \\\n",
       "1573  376.799988  4639800  Entertainment                 -0.002990   \n",
       "1574  373.549988  7001800  Entertainment                  0.048277   \n",
       "1575  389.299988  4234500  Entertainment                 -0.028991   \n",
       "1576  374.149994  4354900  Entertainment                 -0.031040   \n",
       "1577  365.000000  4946200  Entertainment                 -0.016832   \n",
       "\n",
       "      Daily Return (Close)  Log % Change  \n",
       "1573             -0.002990     -0.002994  \n",
       "1574              0.048277      0.047148  \n",
       "1575             -0.028991     -0.029420  \n",
       "1576             -0.031040     -0.031532  \n",
       "1577             -0.016832     -0.016975  "
      ]
     },
     "execution_count": 6,
     "metadata": {},
     "output_type": "execute_result"
    }
   ],
   "source": [
    "newColumnOrder = ['Date','Symbols','Adj Close', 'Close', 'High', 'Low', 'Open', 'Volume', 'Industry', 'Daily Return (Adj Close)', 'Daily Return (Close)',\n",
    "       'Log % Change']\n",
    "\n",
    "nflx_Stock = nflx_Stock.reindex(columns=newColumnOrder)\n",
    "\n",
    "nflx_Stock.tail()"
   ]
  },
  {
   "cell_type": "markdown",
   "metadata": {},
   "source": [
    "# 4. Saving new csv files"
   ]
  },
  {
   "cell_type": "code",
   "execution_count": 7,
   "metadata": {},
   "outputs": [],
   "source": [
    "nflx_Stock.to_csv('netflix-stock.csv', index = False)\n",
    "spy.to_csv('spy-index.csv', index = False)"
   ]
  },
  {
   "cell_type": "code",
   "execution_count": null,
   "metadata": {},
   "outputs": [],
   "source": []
  }
 ],
 "metadata": {
  "kernelspec": {
   "display_name": "Python 3",
   "language": "python",
   "name": "python3"
  },
  "language_info": {
   "codemirror_mode": {
    "name": "ipython",
    "version": 3
   },
   "file_extension": ".py",
   "mimetype": "text/x-python",
   "name": "python",
   "nbconvert_exporter": "python",
   "pygments_lexer": "ipython3",
   "version": "3.7.6"
  }
 },
 "nbformat": 4,
 "nbformat_minor": 4
}
